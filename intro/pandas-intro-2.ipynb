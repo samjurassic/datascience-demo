{
  "cells": [
    {
      "cell_type": "markdown",
      "metadata": {
        "id": "pPMvgjxxYqpl"
      },
      "source": [
        "## Python Workshop: Part 2\n",
        "\n",
        "Welcome! This is part 2 of 2 of our intro to Python and Pandas.\n",
        "\n",
        "In this notebook we will cover:\n",
        "- Using APIs and API wrapper libraries to retrieve data\n",
        "- Additional data visualizations with Seaborn\n",
        "- Window functions and aggregations with Pandas\n",
        "- Excel file I/O\n",
        "- [Regular Expressions](https://docs.python.org/3/howto/regex.html)\n",
        "- Decision Tree Learning with scikit-learn\n",
        "\n",
        "We will be focusing on common data manipulation tasks in Pandas, this focuses on solutions without too many low-level details, so be sure to check out the [documentation](https://pandas.pydata.org/docs/index.html) if you want to learn more about the underlying functionality.\n",
        "\n",
        "For additional visualization ideas, see the Seaborn [Gallery](https://seaborn.pydata.org/examples/index.html)"
      ]
    },
    {
      "cell_type": "code",
      "execution_count": null,
      "metadata": {
        "id": "-FurE4QpYzf1"
      },
      "outputs": [],
      "source": [
        "import os\n",
        "import re\n",
        "import requests\n",
        "import numpy as np\n",
        "import pandas as pd\n",
        "import seaborn as sns\n",
        "import yfinance as yf\n",
        "from sklearn.tree import DecisionTreeRegressor, plot_tree"
      ]
    },
    {
      "cell_type": "markdown",
      "metadata": {
        "id": "buXRDKgOgx-A"
      },
      "source": [
        "### Getting data from an API with requests\n",
        "We will be using [NYC Air Quality Data](https://data.cityofnewyork.us/Environment/Air-Quality/c3uy-2p5r/about_data) accessed via an API endpoint.\n",
        "\n",
        "The requests library is used to interact with APIs. API responses are typically in JSON, which is a similar format to a python dict.\n",
        "\n",
        "The endpoint is an https address, followed by a set of filters after the \"?\". Here we are filtering to PM 2.5 pollution (indicator ID = 365) during Summer 2022."
      ]
    },
    {
      "cell_type": "code",
      "execution_count": null,
      "metadata": {
        "id": "sGcJ5P6dY1fv"
      },
      "outputs": [],
      "source": [
        "# The URL is used to specify the endpoint and query parameters\n",
        "api_url = \"https://data.cityofnewyork.us/resource/c3uy-2p5r.json?indicator_id=365&geo_type_name=Borough\"\n",
        "\n",
        "# a GET request elicits a response from the server, in this case a series of data\n",
        "result = requests.get(api_url)"
      ]
    },
    {
      "cell_type": "code",
      "execution_count": null,
      "metadata": {
        "colab": {
          "base_uri": "https://localhost:8080/",
          "height": 139
        },
        "id": "M0oqlErYacTp",
        "outputId": "38794ea9-5487-44c2-9730-8bb8b1371493"
      },
      "outputs": [],
      "source": [
        "type(result)"
      ]
    },
    {
      "cell_type": "code",
      "execution_count": null,
      "metadata": {
        "colab": {
          "base_uri": "https://localhost:8080/"
        },
        "id": "VI3pdetCZGqd",
        "outputId": "fce6ef78-8f81-4e8a-9b08-aaa5e0ac372c"
      },
      "outputs": [],
      "source": [
        "type(result.json())"
      ]
    },
    {
      "cell_type": "code",
      "execution_count": null,
      "metadata": {
        "colab": {
          "base_uri": "https://localhost:8080/"
        },
        "id": "FZEZuQKQa1S4",
        "outputId": "77916797-1f84-440b-8ba6-76f6ef25972c"
      },
      "outputs": [],
      "source": [
        "type(result.json()[0])"
      ]
    },
    {
      "cell_type": "code",
      "execution_count": null,
      "metadata": {
        "colab": {
          "base_uri": "https://localhost:8080/"
        },
        "id": "IZezkBjYbXEd",
        "outputId": "59880832-97da-49ee-a40b-124a8aac9a8f"
      },
      "outputs": [],
      "source": [
        "# let's check out the first result\n",
        "result.json()[0]"
      ]
    },
    {
      "cell_type": "code",
      "execution_count": null,
      "metadata": {
        "colab": {
          "base_uri": "https://localhost:8080/",
          "height": 293
        },
        "id": "UbiuXw_ZZiea",
        "outputId": "d2290b1e-d6c5-4897-e705-9f8982391294"
      },
      "outputs": [],
      "source": [
        "# pd.DataFrame can parse a list of JSON items/dicts\n",
        "aq = pd.DataFrame.from_records(result.json())\n",
        "aq.head()"
      ]
    },
    {
      "cell_type": "code",
      "execution_count": null,
      "metadata": {
        "colab": {
          "base_uri": "https://localhost:8080/"
        },
        "id": "SvBQK2G5bgeB",
        "outputId": "2db15f8d-4671-47f3-e895-8f144493779c"
      },
      "outputs": [],
      "source": [
        "# what time periods are in this dataset?\n",
        "aq.time_period.unique()"
      ]
    },
    {
      "cell_type": "code",
      "execution_count": null,
      "metadata": {
        "id": "M8FYmMCp5L4j"
      },
      "outputs": [],
      "source": [
        "# drop annual from data so we can look at seasonal trends (we are using the NOT operator \"~\" instead of df.drop)\n",
        "aq = aq[~aq.time_period.str.startswith(\"Annual\")]"
      ]
    },
    {
      "cell_type": "code",
      "execution_count": null,
      "metadata": {
        "colab": {
          "base_uri": "https://localhost:8080/"
        },
        "id": "PiWgxHG9ijzN",
        "outputId": "75a08dba-f1ac-4f35-a4b4-721f5dfb610d"
      },
      "outputs": [],
      "source": [
        "# confirm we have borough-level data (not zip code or district)\n",
        "aq.geo_type_name.unique()"
      ]
    },
    {
      "cell_type": "code",
      "execution_count": null,
      "metadata": {
        "colab": {
          "base_uri": "https://localhost:8080/"
        },
        "id": "EgbLXYe_gpLc",
        "outputId": "8e56352f-6ae2-460b-8822-74fd16402fae"
      },
      "outputs": [],
      "source": [
        "# note that all of the API columns read in as text, so we'll need to convert the numbers and datetime\n",
        "aq.info()"
      ]
    },
    {
      "cell_type": "code",
      "execution_count": null,
      "metadata": {
        "id": "oloZ-4SpiJQg"
      },
      "outputs": [],
      "source": [
        "# convert to numeric\n",
        "aq[\"data_value\"] = pd.to_numeric(aq.data_value)\n",
        "\n",
        "# convert to datetime\n",
        "aq[\"start_date\"] = pd.to_datetime(aq.start_date)"
      ]
    },
    {
      "cell_type": "code",
      "execution_count": null,
      "metadata": {
        "colab": {
          "base_uri": "https://localhost:8080/",
          "height": 468
        },
        "id": "SnwH4yAwhjOf",
        "outputId": "c9cca88e-7bb3-45cd-ab4b-eaa9e4a25e55"
      },
      "outputs": [],
      "source": [
        "# let's check out the distribution of air quality values in the data set (high is bad)\n",
        "sns.histplot(aq.data_value, bins=15)"
      ]
    },
    {
      "cell_type": "code",
      "execution_count": null,
      "metadata": {
        "colab": {
          "base_uri": "https://localhost:8080/",
          "height": 468
        },
        "id": "yTSWMKGQismL",
        "outputId": "fd366408-b04a-4d9e-ea55-cbd5fe2b7bf9"
      },
      "outputs": [],
      "source": [
        "# plotting PM2.5 air pollution over time in each borough\n",
        "sns.lineplot(data=aq, x=\"start_date\", y=\"data_value\", hue=\"geo_place_name\")"
      ]
    },
    {
      "cell_type": "markdown",
      "metadata": {
        "id": "aAl4trurbUu1"
      },
      "source": [
        "### Using an API wrapper\n",
        "Many APIs provide a wrapper, i.e. a library containing higher-level functions for easier access to the API. **yfinance** is the library for the Yahoo Finance API, which contains stock prices and other information on public companies.\n"
      ]
    },
    {
      "cell_type": "code",
      "execution_count": null,
      "metadata": {
        "colab": {
          "base_uri": "https://localhost:8080/"
        },
        "id": "w2Vjpkmm37xw",
        "outputId": "832beb5b-72c2-4066-df4e-a5684022b911"
      },
      "outputs": [],
      "source": [
        "# specify query parameters\n",
        "ticker_list = [\"AAPL\", \"MSFT\", \"NVDA\", \"SPY\"]\n",
        "start_date = \"2024-01-01\"\n",
        "end_date = \"2024-04-30\"\n",
        "\n",
        "stocks = yf.download(tickers=ticker_list, start=start_date, end=end_date, interval=\"1d\")"
      ]
    },
    {
      "cell_type": "code",
      "execution_count": null,
      "metadata": {
        "colab": {
          "base_uri": "https://localhost:8080/",
          "height": 376
        },
        "id": "NIJKMhqtcYUH",
        "outputId": "15e1f623-1eaa-405c-91a2-ffc4b8d73bed"
      },
      "outputs": [],
      "source": [
        "# see that we have a multi-indexed dataframe with multiple levels (Price, Ticker)\n",
        "stocks.head()"
      ]
    },
    {
      "cell_type": "code",
      "execution_count": null,
      "metadata": {
        "colab": {
          "base_uri": "https://localhost:8080/",
          "height": 206
        },
        "id": "taTxh3HG4MzY",
        "outputId": "37734244-89c3-4dfd-9de1-6a3555f0b05f"
      },
      "outputs": [],
      "source": [
        "# let's select prices from the dataframe and melt to normalize the data\n",
        "prices = stocks[\"Adj Close\"].reset_index().melt(id_vars=\"Date\")\n",
        "prices.tail()"
      ]
    },
    {
      "cell_type": "code",
      "execution_count": null,
      "metadata": {
        "colab": {
          "base_uri": "https://localhost:8080/",
          "height": 467
        },
        "id": "MC2reCjc4ii_",
        "outputId": "33cbab75-4bf2-4b1a-ac31-148fc1f83e87"
      },
      "outputs": [],
      "source": [
        "sns.lineplot(data=prices, x=\"Date\", y=\"value\", hue=\"Ticker\" )"
      ]
    },
    {
      "cell_type": "markdown",
      "metadata": {
        "id": "4mo75oVocmNd"
      },
      "source": [
        "### Calculating Window functions\n",
        "\n",
        "Window functions are functions applied to distinct groups of data, without the final aggregation step of the GroupBy. This means you end up with the same number of rows you started with. An example is ranking or a cumulative sum per group.\n",
        "\n",
        "In Pandas, you still use GroupBy to do this, and the function you choose determines whether you aggregate the rows in the group or return a windowed value."
      ]
    },
    {
      "cell_type": "code",
      "execution_count": null,
      "metadata": {
        "id": "0mw8nB6X6R-H"
      },
      "outputs": [],
      "source": [
        "# we will calculate the daily percent change in price for each ticker symbol (ensure DF is sorted correctly!)\n",
        "prices[\"daily_pct\"] = (prices\n",
        "                       .sort_values([\"Ticker\", \"Date\"])\n",
        "                       .groupby(\"Ticker\")[\"value\"] # just pct change on the value column\n",
        "                       .pct_change())"
      ]
    },
    {
      "cell_type": "code",
      "execution_count": null,
      "metadata": {
        "id": "_wX5Ybxf6rvg"
      },
      "outputs": [],
      "source": [
        "# using the daily percent changes, we can calculate the cumulative percent return\n",
        "prices[\"pct_return\"] = (prices\n",
        "                        .groupby(\"Ticker\")[\"daily_pct\"]\n",
        "                        .apply(lambda x: (1 + x).cumprod())\n",
        "                        .droplevel(0)) # droplevel removes the multi-index so we get a single Series back"
      ]
    },
    {
      "cell_type": "code",
      "execution_count": null,
      "metadata": {
        "colab": {
          "base_uri": "https://localhost:8080/",
          "height": 363
        },
        "id": "bkBSl8H47NeR",
        "outputId": "69ffe2e8-d79e-413c-8002-0ffc0bc2d26a"
      },
      "outputs": [],
      "source": [
        "# now we have daily and cumulative percent returns for each stock\n",
        "prices.head(10)"
      ]
    },
    {
      "cell_type": "markdown",
      "metadata": {
        "id": "XDtiVss6f5Q1"
      },
      "source": [
        "### Visualizing categorical and continuous data\n",
        "\n",
        "With one categorical axis (ticker) and one continuous axis (price/change) we can use box-style and scatter-style plots to visualize the distribution of price changes for each ticker.\n",
        "\n",
        "To plot the cumulative returns, we'll make a line plot of returns over time."
      ]
    },
    {
      "cell_type": "code",
      "execution_count": null,
      "metadata": {
        "colab": {
          "base_uri": "https://localhost:8080/",
          "height": 468
        },
        "id": "QkEvhJqaefRn",
        "outputId": "b83507fc-5468-4834-bc93-94ff493e91a9"
      },
      "outputs": [],
      "source": [
        "# let's look at the distribution of daily percent changes for each stock\n",
        "sns.boxplot(data=prices, x=\"daily_pct\", y=\"Ticker\", hue=\"Ticker\")"
      ]
    },
    {
      "cell_type": "code",
      "execution_count": null,
      "metadata": {
        "colab": {
          "base_uri": "https://localhost:8080/",
          "height": 467
        },
        "id": "2X9p4ZXd7Pwf",
        "outputId": "9af7cfa3-93da-42ed-8d42-5e6cd660c426"
      },
      "outputs": [],
      "source": [
        "# let's make a plot to compare the percent returns\n",
        "sns.lineplot(data=prices, x=\"Date\", y=\"pct_return\", hue=\"Ticker\")"
      ]
    },
    {
      "cell_type": "markdown",
      "metadata": {
        "id": "4k393K4BoGWr"
      },
      "source": [
        "### Machine Learning (in 5 mins)\n",
        "\n",
        "We will briefly show a demonstration of decision tree learning in Python with scikit-learn. We will use a decision tree to approximate a sine function, based on [this](https://scikit-learn.org/stable/auto_examples/tree/plot_tree_regression.html#sphx-glr-auto-examples-tree-plot-tree-regression-py) tutorial."
      ]
    },
    {
      "cell_type": "code",
      "execution_count": null,
      "metadata": {
        "id": "1iQETxfsoM9-"
      },
      "outputs": [],
      "source": [
        "# Create a random dataset\n",
        "rng = np.random.RandomState(1)\n",
        "# generate 80 random numbers on [0,1], multiply by 5 and sort\n",
        "X = np.sort(5 * rng.rand(80, 1), axis=0)\n",
        "# create target function of sin(X)\n",
        "y = np.sin(X).ravel() + rng.normal(0, 0.1, 80)\n",
        "# add some noise to every 5th observation\n",
        "# y[::5] +=\n",
        "\n",
        "# Fit regression model, we will compare 2 different depths of tree\n",
        "regr_1 = DecisionTreeRegressor(max_depth=2)\n",
        "regr_2 = DecisionTreeRegressor(max_depth=5)\n",
        "regr_1.fit(X, y)\n",
        "regr_2.fit(X, y)\n",
        "\n",
        "# Predict\n",
        "X_test = np.arange(0.0, 5.0, 0.01)[:, np.newaxis]\n",
        "y_1 = regr_1.predict(X_test)\n",
        "y_2 = regr_2.predict(X_test)\n",
        "\n",
        "# combine into dataframe\n",
        "ml_df = pd.DataFrame()\n",
        "ml_df[\"x\"] = X_test.ravel()\n",
        "ml_df[\"y_true\"] = np.sin(X_test).ravel()\n",
        "ml_df[\"y_1\"] = y_1\n",
        "ml_df[\"y_2\"] = y_2\n",
        "\n",
        "ml_df_melt = ml_df.melt(id_vars=[\"x\"], var_name=\"series\")"
      ]
    },
    {
      "cell_type": "code",
      "execution_count": null,
      "metadata": {
        "colab": {
          "base_uri": "https://localhost:8080/",
          "height": 206
        },
        "id": "AtasA6llqvBN",
        "outputId": "0f836c81-7342-4472-966b-b639ae6af45e"
      },
      "outputs": [],
      "source": [
        "ml_df_melt.head()"
      ]
    },
    {
      "cell_type": "code",
      "execution_count": null,
      "metadata": {
        "colab": {
          "base_uri": "https://localhost:8080/",
          "height": 531
        },
        "id": "KIAGo-o_ryrv",
        "outputId": "72bc737a-08ff-41af-c8d7-d4209c7a57cc"
      },
      "outputs": [],
      "source": [
        "# let's plot the tree and learned rules\n",
        "plot_tree(regr_1)"
      ]
    },
    {
      "cell_type": "code",
      "execution_count": null,
      "metadata": {
        "colab": {
          "base_uri": "https://localhost:8080/",
          "height": 467
        },
        "id": "1cmctxltoPtl",
        "outputId": "e2036cf0-ba16-4c62-f9cb-db390974711e"
      },
      "outputs": [],
      "source": [
        "# let's compare the 2 fitted trees to the actual sine function\n",
        "sns.lineplot(data=ml_df_melt, x=\"x\", y=\"value\", hue=\"series\")"
      ]
    }
  ],
  "metadata": {
    "colab": {
      "provenance": []
    },
    "kernelspec": {
      "display_name": "Python 3",
      "name": "python3"
    },
    "language_info": {
      "codemirror_mode": {
        "name": "ipython",
        "version": 3
      },
      "file_extension": ".py",
      "mimetype": "text/x-python",
      "name": "python",
      "nbconvert_exporter": "python",
      "pygments_lexer": "ipython3",
      "version": "3.11.1"
    }
  },
  "nbformat": 4,
  "nbformat_minor": 0
}
