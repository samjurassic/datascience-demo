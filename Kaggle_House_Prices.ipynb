{
  "cells": [
    {
      "cell_type": "markdown",
      "metadata": {
        "colab_type": "text",
        "id": "view-in-github"
      },
      "source": [
        "<a href=\"https://colab.research.google.com/github/samjurassic/datascience-demo/blob/main/Kaggle_House_Prices.ipynb\" target=\"_parent\"><img src=\"https://colab.research.google.com/assets/colab-badge.svg\" alt=\"Open In Colab\"/></a>"
      ]
    },
    {
      "cell_type": "code",
      "execution_count": 90,
      "metadata": {
        "id": "zm1fhb8EC6_D"
      },
      "outputs": [],
      "source": [
        "# Load libraries\n",
        "import pandas as pd\n",
        "\n",
        "import seaborn as sns\n",
        "import matplotlib.pyplot as plt\n",
        "import pydotplus\n",
        "\n",
        "from IPython.display import Image\n",
        "from sklearn.tree import DecisionTreeRegressor\n",
        "from sklearn.ensemble import RandomForestRegressor, HistGradientBoostingRegressor\n",
        "from sklearn.model_selection import train_test_split\n",
        "from sklearn import metrics\n",
        "from sklearn import tree\n",
        "from sklearn.tree import export_graphviz\n",
        "from io import StringIO\n",
        "from typing import List"
      ]
    },
    {
      "cell_type": "code",
      "execution_count": 34,
      "metadata": {
        "id": "87eFwGE0DCnw"
      },
      "outputs": [],
      "source": [
        "train = pd.read_csv(\"train.csv\")"
      ]
    },
    {
      "cell_type": "code",
      "execution_count": null,
      "metadata": {
        "colab": {
          "base_uri": "https://localhost:8080/",
          "height": 256
        },
        "id": "VfK3v49pDRRG",
        "outputId": "3611da77-948d-422b-8549-53ad21d5b44a"
      },
      "outputs": [],
      "source": [
        "train.head()"
      ]
    },
    {
      "cell_type": "code",
      "execution_count": null,
      "metadata": {
        "colab": {
          "base_uri": "https://localhost:8080/"
        },
        "id": "iqL4FG5pDX9m",
        "outputId": "8992471e-d11d-4ab9-c40b-3aff167d3345"
      },
      "outputs": [],
      "source": [
        "train.info()"
      ]
    },
    {
      "cell_type": "code",
      "execution_count": null,
      "metadata": {
        "colab": {
          "base_uri": "https://localhost:8080/"
        },
        "id": "aHnCjQpbDiWt",
        "outputId": "455b457d-5399-4abc-8fd2-6e8521663099"
      },
      "outputs": [],
      "source": [
        "train[train.describe().columns].corr().sort_values(\"SalePrice\").index"
      ]
    },
    {
      "cell_type": "code",
      "execution_count": null,
      "metadata": {
        "colab": {
          "base_uri": "https://localhost:8080/",
          "height": 143
        },
        "id": "SkSXYVg-Du7G",
        "outputId": "c126da95-415a-44e6-d697-6832a00b091b"
      },
      "outputs": [],
      "source": [
        "train[[\"LotArea\", \"1stFlrSF\", \"SalePrice\"]].corr()"
      ]
    },
    {
      "cell_type": "code",
      "execution_count": 55,
      "metadata": {
        "id": "o2jTQBqnEqNi"
      },
      "outputs": [],
      "source": [
        "X = train[['GarageArea', 'GarageCars', 'GrLivArea', 'OverallQual']]\n",
        "y = train[\"SalePrice\"]\n",
        "\n",
        "clf = DecisionTreeRegressor(max_depth=5, criterion=\"squared_error\")"
      ]
    },
    {
      "cell_type": "code",
      "execution_count": null,
      "metadata": {
        "colab": {
          "base_uri": "https://localhost:8080/"
        },
        "id": "HyHB-xFSFIMz",
        "outputId": "a425f0de-298d-43a0-d1b5-e0811dc81068"
      },
      "outputs": [],
      "source": [
        "clf.fit(X, y)\n",
        "y_pred = clf.predict(X)\n",
        "\n",
        "print(f\"RMSE LOG: {metrics.mean_squared_log_error(y_true=y, y_pred=y_pred)}\")"
      ]
    },
    {
      "cell_type": "code",
      "execution_count": null,
      "metadata": {
        "colab": {
          "base_uri": "https://localhost:8080/",
          "height": 101
        },
        "id": "4nEv1xBCGcuv",
        "outputId": "ad51f2c1-b210-4900-8b7d-59c42d5ec436"
      },
      "outputs": [],
      "source": [
        "# graph decision tree\n",
        "dot_data = StringIO()\n",
        "export_graphviz(clf, out_file=dot_data,\n",
        "                filled=True, rounded=True,\n",
        "                special_characters=True,feature_names = X.columns)\n",
        "\n",
        "graph = pydotplus.graph_from_dot_data(dot_data.getvalue())\n",
        "graph.write_png('tree.png')\n",
        "Image(graph.create_png())\n"
      ]
    },
    {
      "cell_type": "code",
      "execution_count": 124,
      "metadata": {
        "id": "le4uCG-VHMyx"
      },
      "outputs": [],
      "source": [
        "model_cols = ['KitchenAbvGr', 'EnclosedPorch', 'MSSubClass', 'OverallCond', 'YrSold',\n",
        "       'LowQualFinSF', 'Id', 'MiscVal', 'BsmtHalfBath', 'BsmtFinSF2',\n",
        "       '3SsnPorch', 'MoSold', 'PoolArea', 'ScreenPorch', 'BedroomAbvGr',\n",
        "       'BsmtUnfSF', 'BsmtFullBath', 'LotArea', 'HalfBath', 'OpenPorchSF',\n",
        "       '2ndFlrSF', 'WoodDeckSF', 'LotFrontage', 'BsmtFinSF1', 'Fireplaces',\n",
        "       'MasVnrArea', 'GarageYrBlt', 'YearRemodAdd', 'YearBuilt',\n",
        "       'TotRmsAbvGrd', 'FullBath', '1stFlrSF', 'TotalBsmtSF', 'GarageArea',\n",
        "       'GarageCars', 'GrLivArea', 'OverallQual']\n",
        "\n",
        "# Use train_test_split to split dataset into training set and test set\n",
        "X_train, X_test, y_train, y_test = train_test_split(\n",
        "    train[model_cols],\n",
        "    train[\"SalePrice\"], test_size=0.9, random_state=15)"
      ]
    },
    {
      "cell_type": "code",
      "execution_count": null,
      "metadata": {
        "colab": {
          "base_uri": "https://localhost:8080/",
          "height": 75
        },
        "id": "Q2M7ap6rQjyk",
        "outputId": "d65f7e15-a4c8-4adb-c445-08339143564c"
      },
      "outputs": [],
      "source": [
        "gb = HistGradientBoostingRegressor(loss=\"squared_error\", learning_rate=0.01, max_depth=2, max_iter=200)\n",
        "gb.fit(X_train, y_train)"
      ]
    },
    {
      "cell_type": "code",
      "execution_count": null,
      "metadata": {
        "colab": {
          "base_uri": "https://localhost:8080/"
        },
        "id": "TM11zU3FHjTX",
        "outputId": "2baf1269-8037-4fce-dc26-a3ff82ed99f1"
      },
      "outputs": [],
      "source": [
        "gb_pred = gb.predict(X_test)\n",
        "print(f\"RMSE LOG: {metrics.mean_squared_log_error(y_true=y_test, y_pred=gb_pred)}\")"
      ]
    },
    {
      "cell_type": "markdown",
      "metadata": {
        "id": "E_r01BHKQbrM"
      },
      "source": [
        "### Make test set predictions and submission file"
      ]
    },
    {
      "cell_type": "code",
      "execution_count": null,
      "metadata": {
        "colab": {
          "base_uri": "https://localhost:8080/",
          "height": 256
        },
        "id": "pYJltNR7Mo8R",
        "outputId": "1466b973-00b3-4237-fdfc-7877612dabf7"
      },
      "outputs": [],
      "source": [
        "test = pd.read_csv(\"test.csv\")\n",
        "test.head()"
      ]
    },
    {
      "cell_type": "code",
      "execution_count": null,
      "metadata": {
        "colab": {
          "base_uri": "https://localhost:8080/"
        },
        "id": "FbOOUgYaXrjq",
        "outputId": "8595386b-8062-4e1b-a518-6d662f895a46"
      },
      "outputs": [],
      "source": [
        "test.info()"
      ]
    },
    {
      "cell_type": "code",
      "execution_count": null,
      "metadata": {
        "colab": {
          "base_uri": "https://localhost:8080/",
          "height": 444
        },
        "id": "KWtU78S3NzeP",
        "outputId": "ad8343b3-c269-4a8e-c0e5-21cc207fc251"
      },
      "outputs": [],
      "source": [
        "test_x = test[model_cols]\n",
        "\n",
        "test_x[test_x.isna().any(axis=1)]"
      ]
    },
    {
      "cell_type": "code",
      "execution_count": 116,
      "metadata": {
        "id": "h2goluenO24t"
      },
      "outputs": [],
      "source": [
        "# test_x.describe().T[\"count\"]"
      ]
    },
    {
      "cell_type": "code",
      "execution_count": 130,
      "metadata": {
        "id": "aLPKzqBQNhAm"
      },
      "outputs": [],
      "source": [
        "y_pred = gb.predict(test_x)"
      ]
    },
    {
      "cell_type": "code",
      "execution_count": 131,
      "metadata": {
        "id": "nIpNks00PNhf"
      },
      "outputs": [],
      "source": [
        "output_df = pd.concat([test[\"Id\"], pd.Series(y_pred).rename(\"SalePrice\")], axis=1)\n",
        "output_df.to_csv(\"sam_predictions_gb.csv\", index=False)"
      ]
    },
    {
      "cell_type": "code",
      "execution_count": null,
      "metadata": {
        "colab": {
          "base_uri": "https://localhost:8080/",
          "height": 206
        },
        "id": "4E3lIjseX9hx",
        "outputId": "cf37bf18-c229-4f88-c451-15dda60adcc3"
      },
      "outputs": [],
      "source": [
        "output_df.head()"
      ]
    }
  ],
  "metadata": {
    "colab": {
      "authorship_tag": "ABX9TyPs2267pxdQWIyiu8i+Bkwj",
      "include_colab_link": true,
      "provenance": []
    },
    "kernelspec": {
      "display_name": "Python 3",
      "name": "python3"
    },
    "language_info": {
      "name": "python"
    }
  },
  "nbformat": 4,
  "nbformat_minor": 0
}
