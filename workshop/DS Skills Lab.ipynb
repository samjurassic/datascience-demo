{
 "cells": [
  {
   "attachments": {},
   "cell_type": "markdown",
   "metadata": {},
   "source": [
    "# Data Skills Lab"
   ]
  },
  {
   "attachments": {},
   "cell_type": "markdown",
   "metadata": {},
   "source": [
    "Materials:\n",
    "\n",
    "- Download the January 2023 Yellow Taxi Data PARQUET file https://www.nyc.gov/site/tlc/about/tlc-trip-record-data.page\n",
    "- Download the Taxi Zone Lookup table CSV file on the same page\n",
    "- Read the Yellow Taxi data dictionary https://www.nyc.gov/assets/tlc/downloads/pdf/data_dictionary_trip_records_yellow.pdf\n",
    "\n",
    "*Assignment:*\n",
    "\n",
    "Use pandas to read the 2 data files into your Python notebook. Answer the following questions and upload your results here:\n",
    "\n",
    "Tips: there are 3 airports, JFK, LaGuardia, and Newark (EWR)\n",
    "\n",
    "1. Answer the following questions:\n",
    "\n",
    "- How many pickups happened at each airport?\n",
    "- How many dropoffs happened at each airport?\n",
    "- What is the total amount of airport fees collected at each NYC airport? (JFK and LaGuardia)\n",
    "- What borough destination had the most tips?\n",
    "- What were the top 10 pickup locations by number of passengers?\n",
    "\n",
    "2. Create a data visualization of your choice"
   ]
  },
  {
   "cell_type": "code",
   "execution_count": null,
   "metadata": {},
   "outputs": [],
   "source": [
    "import pandas as pd\n",
    "import seaborn as sns"
   ]
  },
  {
   "cell_type": "code",
   "execution_count": null,
   "metadata": {},
   "outputs": [],
   "source": [
    "taxi_link = \"https://d37ci6vzurychx.cloudfront.net/trip-data/yellow_tripdata_2023-01.parquet\"\n",
    "zone_link = \"https://d37ci6vzurychx.cloudfront.net/misc/taxi_zone_lookup.csv\"\n",
    "\n",
    "trips = pd.read_parquet(taxi_link, engine=\"pyarrow\")\n",
    "taxi_zones = pd.read_csv(zone_link)"
   ]
  },
  {
   "cell_type": "code",
   "execution_count": null,
   "metadata": {},
   "outputs": [],
   "source": [
    "trips.head()"
   ]
  },
  {
   "cell_type": "code",
   "execution_count": null,
   "metadata": {},
   "outputs": [],
   "source": [
    "trips[\"pickup_day\"] = trips[\"tpep_pickup_datetime\"].apply(lambda x: x.day)\n",
    "trips[\"pickup_dow\"] = trips[\"tpep_pickup_datetime\"].apply(lambda x: x.day_name())\n",
    "trips[\"pickup_dow_num\"] = trips[\"tpep_pickup_datetime\"].apply(lambda x: x.day_of_week)"
   ]
  },
  {
   "cell_type": "code",
   "execution_count": null,
   "metadata": {},
   "outputs": [],
   "source": [
    "taxi_zones.head()\n",
    "airport_list = [1, 132, 138]\n",
    "airport_zones = taxi_zones.query(\"LocationID in @airport_list\")"
   ]
  },
  {
   "cell_type": "code",
   "execution_count": null,
   "metadata": {},
   "outputs": [],
   "source": [
    "# rows before 3066766\n",
    "trips_merged_pu = (\n",
    "    trips.merge(\n",
    "        taxi_zones,\n",
    "        left_on=[\"PULocationID\"],\n",
    "        right_on=[\"LocationID\"],\n",
    "        how=\"inner\")\n",
    ")"
   ]
  },
  {
   "cell_type": "code",
   "execution_count": null,
   "metadata": {},
   "outputs": [],
   "source": [
    "trips_merged_pu.head()"
   ]
  },
  {
   "cell_type": "code",
   "execution_count": null,
   "metadata": {},
   "outputs": [],
   "source": [
    "trips_merged_pu.info()"
   ]
  },
  {
   "cell_type": "code",
   "execution_count": null,
   "metadata": {},
   "outputs": [],
   "source": [
    "# 1 - How many pickups happened at each airport?\n",
    "result_1 = trips_merged_pu.query(\"PULocationID in @airport_list\").groupby([\"Zone\"]).agg({\"Zone\": \"count\", \"passenger_count\": \"sum\"})\n",
    "result_1.columns = ['pickup_count', 'passenger_count']\n",
    "result_1.reset_index(inplace=True)"
   ]
  },
  {
   "cell_type": "code",
   "execution_count": null,
   "metadata": {},
   "outputs": [],
   "source": [
    "result_1"
   ]
  },
  {
   "cell_type": "code",
   "execution_count": null,
   "metadata": {},
   "outputs": [],
   "source": [
    "sns.barplot(result_1, x=\"Zone\", y=\"pickup_count\")"
   ]
  },
  {
   "cell_type": "code",
   "execution_count": null,
   "metadata": {},
   "outputs": [],
   "source": [
    "# 2 - How many dropoffs happened at each airport?\n",
    "trips_merged_do = (\n",
    "    trips.merge(\n",
    "        taxi_zones.query(\"LocationID in @airport_list\"),\n",
    "        left_on=[\"DOLocationID\"],\n",
    "        right_on=[\"LocationID\"],\n",
    "        how=\"inner\")\n",
    ")"
   ]
  },
  {
   "cell_type": "code",
   "execution_count": null,
   "metadata": {},
   "outputs": [],
   "source": [
    "trips_merged_do.shape"
   ]
  },
  {
   "cell_type": "code",
   "execution_count": null,
   "metadata": {},
   "outputs": [],
   "source": [
    "result_2 = trips_merged_do.groupby([\"Zone\"]).agg({\"Zone\": \"count\", \"passenger_count\": \"sum\"})\n",
    "result_2.columns = ['dropoff_count', 'passenger_count']\n",
    "result_2.reset_index(inplace=True)"
   ]
  },
  {
   "cell_type": "code",
   "execution_count": null,
   "metadata": {},
   "outputs": [],
   "source": [
    "result_2"
   ]
  },
  {
   "cell_type": "code",
   "execution_count": null,
   "metadata": {},
   "outputs": [],
   "source": [
    "sns.barplot(result_2, x=\"Zone\", y=\"dropoff_count\")"
   ]
  },
  {
   "cell_type": "code",
   "execution_count": null,
   "metadata": {},
   "outputs": [],
   "source": [
    "# 3 - What is the total amount of airport fees collected at each NYC airport? (JFK and LaGuardia)\n",
    "result_3 = trips.query(\"PULocationID in @airport_list\").groupby(\"PULocationID\").agg({\"airport_fee\": \"sum\", \"PULocationID\": \"count\"})\n",
    "result_3.columns = ['airport_fee_sum', 'pickup_count']\n",
    "result_3.reset_index(inplace=True)\n"
   ]
  },
  {
   "cell_type": "code",
   "execution_count": null,
   "metadata": {},
   "outputs": [],
   "source": [
    "# dropping bad EWR airport row\n",
    "result_3.drop(0, axis=0, inplace=True)"
   ]
  },
  {
   "cell_type": "code",
   "execution_count": null,
   "metadata": {},
   "outputs": [],
   "source": [
    "result_3 = result_3.merge(taxi_zones, left_on=\"PULocationID\", right_on=\"LocationID\", how=\"inner\")"
   ]
  },
  {
   "cell_type": "code",
   "execution_count": null,
   "metadata": {},
   "outputs": [],
   "source": [
    "trips.query(\"PULocationID == 1 and airport_fee > 0\")"
   ]
  },
  {
   "cell_type": "code",
   "execution_count": null,
   "metadata": {},
   "outputs": [],
   "source": [
    "sns.barplot(result_3, x=\"Zone\", y=\"airport_fee_sum\")"
   ]
  },
  {
   "cell_type": "code",
   "execution_count": null,
   "metadata": {},
   "outputs": [],
   "source": [
    "# 4 - what borough destination had the most tips?\n",
    "\n",
    "trips_merged_do_all = (\n",
    "    trips.merge(\n",
    "        taxi_zones,\n",
    "        left_on=[\"DOLocationID\"],\n",
    "        right_on=[\"LocationID\"],\n",
    "        how=\"left\")\n",
    ")\n",
    "\n",
    "borough_metrics = (\n",
    "    trips_merged_do_all\n",
    "    .groupby(\"Borough\")\n",
    "    .agg({\"tip_amount\": [\"sum\", \"mean\"] , \"DOLocationID\": \"count\", \"trip_distance\": \"mean\"}).reset_index()\n",
    ")"
   ]
  },
  {
   "cell_type": "code",
   "execution_count": null,
   "metadata": {},
   "outputs": [],
   "source": [
    "borough_metrics.head()"
   ]
  },
  {
   "cell_type": "code",
   "execution_count": null,
   "metadata": {},
   "outputs": [],
   "source": [
    "borough_metrics[[\"Borough\", \"tip_amount\"]]"
   ]
  },
  {
   "cell_type": "code",
   "execution_count": null,
   "metadata": {},
   "outputs": [],
   "source": [
    "sns.barplot(borough_metrics, x=\"Borough\",y=\"tip_amount\")"
   ]
  },
  {
   "cell_type": "code",
   "execution_count": null,
   "metadata": {},
   "outputs": [],
   "source": [
    "trips_merged_pu.head()"
   ]
  },
  {
   "cell_type": "code",
   "execution_count": null,
   "metadata": {},
   "outputs": [],
   "source": [
    "sns.boxplot(trips_merged_pu.query(\"tip_amount < 30 and tip_amount >= 0\"), x=\"Borough\", y=\"tip_amount\")"
   ]
  },
  {
   "cell_type": "code",
   "execution_count": null,
   "metadata": {},
   "outputs": [],
   "source": [
    "sns.histplot(trips_merged_pu.query(\"tip_amount < 30 and tip_amount > 0 and Borough == 'Bronx'\"), x=\"tip_amount\", binwidth=0.5)"
   ]
  },
  {
   "cell_type": "code",
   "execution_count": null,
   "metadata": {},
   "outputs": [],
   "source": [
    "# 5 - What were the top 10 pickup locations by number of passengers?\n",
    "result_5 = pd.DataFrame(\n",
    "    trips_merged_pu.groupby(\"Zone\").sum()[\"passenger_count\"].sort_values(ascending=False)[0:10]).reset_index()"
   ]
  },
  {
   "cell_type": "code",
   "execution_count": null,
   "metadata": {},
   "outputs": [],
   "source": [
    "import matplotlib.pyplot as plt\n",
    "sns.barplot(result_5, x=\"Zone\", y=\"passenger_count\")\n",
    "plt.xticks(rotation=75)"
   ]
  },
  {
   "cell_type": "code",
   "execution_count": null,
   "metadata": {},
   "outputs": [],
   "source": [
    "\n"
   ]
  },
  {
   "cell_type": "code",
   "execution_count": null,
   "metadata": {},
   "outputs": [],
   "source": [
    "dow_metrics = trips_merged_pu.groupby([\"Borough\", \"pickup_dow\", \"pickup_dow_num\"]).sum()[[\"passenger_count\", \"fare_amount\"]].reset_index().sort_values(\"pickup_dow_num\")"
   ]
  },
  {
   "cell_type": "code",
   "execution_count": null,
   "metadata": {},
   "outputs": [],
   "source": [
    "dow_metrics"
   ]
  },
  {
   "cell_type": "code",
   "execution_count": null,
   "metadata": {},
   "outputs": [],
   "source": [
    "sns.barplot(dow_metrics, x=\"pickup_dow\", y=\"fare_amount\")"
   ]
  },
  {
   "cell_type": "code",
   "execution_count": null,
   "metadata": {},
   "outputs": [],
   "source": [
    "sns.histplot(trips_merged_do, x=\"passenger_count\", binwidth=1, hue=\"payment_type\")"
   ]
  },
  {
   "cell_type": "code",
   "execution_count": null,
   "metadata": {},
   "outputs": [],
   "source": [
    "sns.barplot(trip)"
   ]
  }
 ],
 "metadata": {
  "kernelspec": {
   "display_name": "qless_test",
   "language": "python",
   "name": "qless_test"
  },
  "language_info": {
   "codemirror_mode": {
    "name": "ipython",
    "version": 3
   },
   "file_extension": ".py",
   "mimetype": "text/x-python",
   "name": "python",
   "nbconvert_exporter": "python",
   "pygments_lexer": "ipython3",
   "version": "3.11.1"
  },
  "orig_nbformat": 4
 },
 "nbformat": 4,
 "nbformat_minor": 2
}
