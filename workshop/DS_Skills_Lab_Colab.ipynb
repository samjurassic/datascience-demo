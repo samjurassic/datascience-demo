{
  "cells": [
    {
      "cell_type": "markdown",
      "metadata": {
        "id": "view-in-github",
        "colab_type": "text"
      },
      "source": [
        "<a href=\"https://colab.research.google.com/github/samjurassic/datascience-demo/blob/main/workshop/DS_Skills_Lab_Colab.ipynb\" target=\"_parent\"><img src=\"https://colab.research.google.com/assets/colab-badge.svg\" alt=\"Open In Colab\"/></a>"
      ]
    },
    {
      "cell_type": "markdown",
      "metadata": {
        "id": "yM-V5SlqNUO6"
      },
      "source": [
        "# Data Skills Lab: Exploring NYC Taxi Data with Pandas"
      ]
    },
    {
      "cell_type": "markdown",
      "source": [
        "**Goal:** Learn how to load, explore, clean, merge, and analyze real-world tabular data in Python using `pandas`.\n",
        "\n",
        "**Learning objectives:**\n",
        "- Load data from URLs into DataFrames.\n",
        "- Inspect and summarize data using `head()`, `info()`, and `describe()`.\n",
        "- Merge datasets and compute aggregates using `groupby()`.\n",
        "- Visualize results with `seaborn` and `matplotlib`.\n"
      ],
      "metadata": {
        "id": "-9QeCQLQXIm9"
      }
    },
    {
      "cell_type": "markdown",
      "metadata": {
        "id": "nWCiytA6NUO8"
      },
      "source": [
        "Links:\n",
        "\n",
        "- We will be using NYC taxi data. The code will automatically download the files, but you can find the files and other links here: https://www.nyc.gov/site/tlc/about/tlc-trip-record-data.page\n",
        "- Read the Yellow Taxi data dictionary https://www.nyc.gov/assets/tlc/downloads/pdf/data_dictionary_trip_records_yellow.pdf\n"
      ]
    },
    {
      "cell_type": "code",
      "execution_count": null,
      "metadata": {
        "id": "xom7ZLiXNUO8"
      },
      "outputs": [],
      "source": [
        "# Core libraries\n",
        "import pandas as pd\n",
        "import seaborn as sns\n",
        "import matplotlib.pyplot as plt\n",
        "\n",
        "# Optional: improve display\n",
        "pd.set_option('display.max_columns', 20)\n",
        "sns.set_theme(style=\"whitegrid\")\n",
        "\n",
        "# Versions\n",
        "print(f\"pandas {pd.__version__}, seaborn {sns.__version__}\")\n"
      ]
    },
    {
      "cell_type": "code",
      "execution_count": null,
      "metadata": {
        "id": "gICuoV2BNUO9"
      },
      "outputs": [],
      "source": [
        "# links to data (pandas can load files from links as well as file paths)\n",
        "# January 2024 data\n",
        "taxi_url = (\n",
        "    \"https://d37ci6vzurychx.cloudfront.net/trip-data/yellow_tripdata_2024-01.parquet\"\n",
        ")\n",
        "taxi_zone_url = \"https://d37ci6vzurychx.cloudfront.net/misc/taxi_zone_lookup.csv\"\n",
        "\n",
        "# read files using appropriate pd.read_* function for each format\n",
        "trips = pd.read_parquet(taxi_url, engine=\"pyarrow\")\n",
        "taxi_zones = pd.read_csv(taxi_zone_url)"
      ]
    },
    {
      "cell_type": "code",
      "execution_count": null,
      "metadata": {
        "id": "q3jl0jtNNUO9"
      },
      "outputs": [],
      "source": [
        "# use .head() to display the first n rows of the dataframe\n",
        "trips.head()"
      ]
    },
    {
      "cell_type": "code",
      "execution_count": null,
      "metadata": {
        "id": "RlbniVUpV8kT"
      },
      "outputs": [],
      "source": [
        "taxi_zones.head()"
      ]
    },
    {
      "cell_type": "code",
      "source": [
        "# info() shows us the metadata and types of the dataframe\n",
        "trips.info()"
      ],
      "metadata": {
        "id": "hGUWCwTImT9z"
      },
      "execution_count": null,
      "outputs": []
    },
    {
      "cell_type": "code",
      "execution_count": null,
      "metadata": {
        "id": "-5-EYKYaNUO-"
      },
      "outputs": [],
      "source": [
        "# we are going to create new columns using the datetime type\n",
        "trips = (\n",
        "    trips\n",
        "    .assign(\n",
        "        trip_timedelta=lambda d: (d.tpep_dropoff_datetime - d.tpep_pickup_datetime),\n",
        "        pickup_date=lambda d: d[\"tpep_pickup_datetime\"].dt.date,\n",
        "        pickup_day=lambda d: d[\"tpep_pickup_datetime\"].dt.day,\n",
        "        pickup_dow=lambda d: d[\"tpep_pickup_datetime\"].dt.day_name(),\n",
        "        pickup_dow_num=lambda d: d[\"tpep_pickup_datetime\"].dt.day_of_week,\n",
        "        pickup_hour=lambda d: d[\"tpep_pickup_datetime\"].dt.hour,\n",
        "    )\n",
        ")\n",
        "\n",
        "# you can see the extracted parts of the datetime as the new columns\n",
        "trips[[\"trip_timedelta\", \"tpep_pickup_datetime\", \"pickup_date\", \"pickup_day\", \"pickup_dow\", \"pickup_dow_num\"]].head()\n"
      ]
    },
    {
      "cell_type": "code",
      "source": [
        "trips[\"trip_minutes\"] = trips[\"trip_timedelta\"].apply(lambda x: x.total_seconds() / 60.0)"
      ],
      "metadata": {
        "id": "dqc4sDt0vtEu"
      },
      "execution_count": null,
      "outputs": []
    },
    {
      "cell_type": "code",
      "source": [
        "trips[[\"trip_timedelta\", \"tpep_pickup_datetime\", \"tpep_dropoff_datetime\", \"trip_minutes\"]].head()"
      ],
      "metadata": {
        "id": "f2fjJn3uwfG8"
      },
      "execution_count": null,
      "outputs": []
    },
    {
      "cell_type": "markdown",
      "source": [
        "## Exploring data with seaborn"
      ],
      "metadata": {
        "id": "58LbHTX0m8SW"
      }
    },
    {
      "cell_type": "code",
      "source": [
        "# data quality check using query (SQL-like expressions)\n",
        "trips.query(\"tpep_pickup_datetime < '2024-01-01'\")"
      ],
      "metadata": {
        "id": "VjwFrMmLnqr1"
      },
      "execution_count": null,
      "outputs": []
    },
    {
      "cell_type": "code",
      "source": [
        "passengers_per_day = (\n",
        "    trips\n",
        "    .query(\"tpep_dropoff_datetime >= '2024-01-01'\")\n",
        "    .groupby(\"pickup_date\", as_index=False)\n",
        "    .agg({\"passenger_count\": \"sum\"})\n",
        ")\n",
        "\n",
        "# seaborn plot syntax is generally: sns.barplot(data=df, x=\"column_a\", y=\"column_b\")\n",
        "sns.barplot(passengers_per_day, x=\"pickup_date\", y=\"passenger_count\")\n",
        "\n",
        "# rotate ticks\n",
        "plt.xticks(rotation=85)\n",
        "plt.show()"
      ],
      "metadata": {
        "id": "5y-aQw7DoYjk"
      },
      "execution_count": null,
      "outputs": []
    },
    {
      "cell_type": "code",
      "source": [
        "# let's look at average total passengers by day of the week\n",
        "passengers_per_day_of_week = (\n",
        "    trips\n",
        "    .query(\"tpep_dropoff_datetime >= '2024-01-01'\")\n",
        "    # step 1: sum all passengers into day of week groups (e.g. )\n",
        "    .groupby([\"pickup_dow_num\", \"pickup_dow\", \"pickup_date\"], as_index=False)\n",
        "    .agg({\"passenger_count\": \"sum\"})\n",
        "    # step 2: average over the days of week in a month (e.g. all Fridays)\n",
        "    .query(\"passenger_count > 10000\") # outlier filter\n",
        "    .groupby([\"pickup_dow_num\", \"pickup_dow\"], as_index=False)\n",
        "    .agg({\"passenger_count\": \"mean\"})\n",
        "    .sort_values(by=\"pickup_dow_num\")\n",
        ")\n",
        "\n",
        "sns.barplot(passengers_per_day_of_week, x=\"pickup_dow\", y=\"passenger_count\")\n",
        "\n",
        "# rotate ticks\n",
        "plt.xticks(rotation=45)\n",
        "plt.show()"
      ],
      "metadata": {
        "id": "bGb1Y3YkojnE"
      },
      "execution_count": null,
      "outputs": []
    },
    {
      "cell_type": "code",
      "source": [
        "# step 1: sum all passengers into day of week groups (e.g. all mondays in the month)\n",
        "(trips\n",
        " .groupby([\"pickup_dow_num\", \"pickup_dow\", \"pickup_date\"], as_index=False)\n",
        " .agg({\"passenger_count\": \"sum\"})\n",
        " .sort_values(by=\"pickup_date\"))\n"
      ],
      "metadata": {
        "id": "FqgxGCMVrGII"
      },
      "execution_count": null,
      "outputs": []
    },
    {
      "cell_type": "code",
      "source": [
        "# step 2: average over the days of week in a month (e.g. all Fridays)\n",
        "temp_df = _\n",
        "\n",
        "(temp_df\n",
        " .groupby([\"pickup_dow_num\", \"pickup_dow\"], as_index=False)\n",
        "  .agg({\"passenger_count\": \"mean\"})\n",
        "  .sort_values(by=\"pickup_dow_num\"))"
      ],
      "metadata": {
        "id": "VlGcNbOYr-2V"
      },
      "execution_count": null,
      "outputs": []
    },
    {
      "cell_type": "markdown",
      "metadata": {
        "id": "CN42aRZyV8kU"
      },
      "source": [
        "### 1 - How many pickups happened at each airport?\n",
        "\n",
        "We'll merge the taxi zone reference table with trip data to map location IDs to airport names, then group and count.\n"
      ]
    },
    {
      "cell_type": "code",
      "execution_count": null,
      "metadata": {
        "id": "g2nTa8NTNUO_"
      },
      "outputs": [],
      "source": [
        "result_1 = (\n",
        "    trips\n",
        "    .merge(taxi_zones, left_on=\"PULocationID\", right_on=\"LocationID\", how=\"left\")\n",
        "    .query(\"Zone in ['JFK Airport', 'LaGuardia Airport', 'Newark Airport']\")\n",
        "    .groupby(\"Zone\", as_index=False)\n",
        "    .agg(pickup_count=('PULocationID', 'count'))\n",
        "    .sort_values(\"pickup_count\", ascending=False)\n",
        ")\n",
        "\n",
        "result_1"
      ]
    },
    {
      "cell_type": "code",
      "execution_count": null,
      "metadata": {
        "id": "F1xILmpiNUO_"
      },
      "outputs": [],
      "source": [
        "sns.barplot(result_1, x=\"Zone\", y=\"pickup_count\")"
      ]
    },
    {
      "cell_type": "markdown",
      "metadata": {
        "id": "etnYlcWpV8kU"
      },
      "source": [
        "### 2 - How many dropoffs happened at each NYC airport?"
      ]
    },
    {
      "cell_type": "code",
      "execution_count": null,
      "metadata": {
        "id": "BXZ41QF6NUPA"
      },
      "outputs": [],
      "source": [
        "# we are going to do the opposite merge on dropoff ID (DOLocationID)\n",
        "result_2 = (\n",
        "    trips\n",
        "    .merge(taxi_zones, left_on=\"DOLocationID\", right_on=\"LocationID\", how=\"left\")\n",
        "    .query(\"Zone in ['JFK Airport', 'LaGuardia Airport', 'Newark Airport']\")\n",
        "    .groupby(\"Zone\", as_index=False)\n",
        "    .agg(dropoff_count=('DOLocationID', 'count'))\n",
        "    .sort_values(\"dropoff_count\", ascending=False)\n",
        ")\n",
        "\n",
        "result_2"
      ]
    },
    {
      "cell_type": "code",
      "execution_count": null,
      "metadata": {
        "id": "rxMbrOI1NUPA"
      },
      "outputs": [],
      "source": [
        "sns.barplot(result_2, x=\"Zone\", y=\"dropoff_count\")"
      ]
    },
    {
      "cell_type": "markdown",
      "metadata": {
        "id": "OWtTArftV8kU"
      },
      "source": [
        "### 3 - What is the total amount of airport fees collected at each NYC airport? (JFK and LaGuardia)\n",
        "\n",
        "Tip, airport fee is collected by Taxi meter if picked up at an airport"
      ]
    },
    {
      "cell_type": "code",
      "execution_count": null,
      "metadata": {
        "id": "K4AB7YNqNUPA"
      },
      "outputs": [],
      "source": [
        "result_3 = (\n",
        "    trips\n",
        "    .merge(taxi_zones, left_on=\"PULocationID\", right_on=\"LocationID\", how=\"left\")\n",
        "    .query(\"Zone in ['JFK Airport', 'LaGuardia Airport', 'Newark Airport']\")\n",
        "    .groupby(\"Zone\", as_index=False)\n",
        "    .agg({\"Airport_fee\": \"sum\", \"PULocationID\": \"count\"})\n",
        "    .rename(columns={\n",
        "        \"Airport_fee\": \"airport_fee_sum\",\n",
        "        \"PULocationID\": \"pickup_count\"})\n",
        ")\n",
        "\n",
        "result_3"
      ]
    },
    {
      "cell_type": "code",
      "execution_count": null,
      "metadata": {
        "id": "FlqoZpTfNUPA"
      },
      "outputs": [],
      "source": [
        "sns.barplot(result_3, x=\"Zone\", y=\"airport_fee_sum\")"
      ]
    },
    {
      "cell_type": "markdown",
      "metadata": {
        "id": "Q1hhC8x_V8kV"
      },
      "source": [
        "### 4 - What borough destination had the highest tips per mile?"
      ]
    },
    {
      "cell_type": "code",
      "execution_count": null,
      "metadata": {
        "id": "NRI6YamGNUPA"
      },
      "outputs": [],
      "source": [
        "borough_metrics = (\n",
        "    trips\n",
        "    .merge(\n",
        "        taxi_zones,\n",
        "        left_on=\"DOLocationID\",\n",
        "        right_on=\"LocationID\",\n",
        "        how=\"left\"\n",
        "    )\n",
        "    .groupby(\"Borough\", as_index=False)\n",
        "    .agg(\n",
        "        total_tips=('tip_amount', 'sum'),\n",
        "        average_tips=('tip_amount', 'mean'),\n",
        "        dropoff_count=('DOLocationID', 'count'),\n",
        "        avg_trip_distance=('trip_distance', 'mean'),\n",
        "        total_distance=('trip_distance', 'sum')\n",
        "    )\n",
        "    .assign(\n",
        "        avg_trip_distance=lambda d: d['avg_trip_distance'].round(2),\n",
        "        total_tips=lambda d: d['total_tips'].round(0),\n",
        "        tip_per_mile=lambda d: d.total_tips / d.total_distance\n",
        "    )\n",
        "    .sort_values(\"total_tips\", ascending=False)\n",
        ")\n"
      ]
    },
    {
      "cell_type": "code",
      "source": [
        "# check: how many zones per borough\n",
        "taxi_zones.Borough.value_counts()"
      ],
      "metadata": {
        "id": "-06R0MnPa16Y"
      },
      "execution_count": null,
      "outputs": []
    },
    {
      "cell_type": "code",
      "execution_count": null,
      "metadata": {
        "id": "6kZRIYddNUPA"
      },
      "outputs": [],
      "source": [
        "borough_metrics"
      ]
    },
    {
      "cell_type": "code",
      "source": [
        "taxi_zones.query(\"Borough == 'Unknown'\") # looks like missing information"
      ],
      "metadata": {
        "id": "QKIpcmPCue-E"
      },
      "execution_count": null,
      "outputs": []
    },
    {
      "cell_type": "code",
      "execution_count": null,
      "metadata": {
        "id": "dROoi69aNUPB"
      },
      "outputs": [],
      "source": [
        "sns.barplot(borough_metrics.query(\"Borough != 'Unknown'\"), x=\"Borough\", y=\"tip_per_mile\", hue=\"Borough\")"
      ]
    },
    {
      "cell_type": "markdown",
      "metadata": {
        "id": "fGxjo3rmV8kV"
      },
      "source": [
        "### 5 - What were the top 10 pickup locations by number of passengers?"
      ]
    },
    {
      "cell_type": "code",
      "execution_count": null,
      "metadata": {
        "id": "CcHikdSkNUPB"
      },
      "outputs": [],
      "source": [
        "result_5 =  (trips\n",
        "    .merge(taxi_zones, left_on=\"PULocationID\", right_on=\"LocationID\", how=\"left\")\n",
        "    .groupby(\"Zone\", as_index=False)\n",
        "    .agg(passenger_count=(\"passenger_count\", \"sum\"))\n",
        "    .sort_values(by=\"passenger_count\", ascending=False)[0:10]\n",
        ")"
      ]
    },
    {
      "cell_type": "code",
      "execution_count": null,
      "metadata": {
        "id": "SQWXIJSUNUPB"
      },
      "outputs": [],
      "source": [
        "ax = sns.barplot(result_5, x=\"Zone\", y=\"passenger_count\")\n",
        "\n",
        "# rotate ticks\n",
        "plt.xticks(rotation=-65)\n",
        "plt.show()"
      ]
    },
    {
      "cell_type": "markdown",
      "source": [
        "## ✅ Wrap-Up\n",
        "\n",
        "In this lab, you practiced:\n",
        "- Loading real data into pandas\n",
        "- Extracting features from datetime columns\n",
        "- Merging datasets and computing aggregates\n",
        "- Visualizing simple summaries\n",
        "\n",
        "**Next Steps**\n",
        "- Explore averages (`.mean()`, `.median()`) for trip durations or fares.\n",
        "- Try grouping by hour or day of week.\n",
        "- Experiment with `pd.to_datetime()` and `.dt` accessors for other date parts.\n"
      ],
      "metadata": {
        "id": "mYl9yoCBZb5N"
      }
    },
    {
      "cell_type": "markdown",
      "source": [
        "## Bonus: Machine Learning\n",
        "\n",
        "### Predicting Trip Duration with a Decision Tree\n",
        "\n",
        "Now that we've explored taxi trip data, let's take it a step further and **predict trip duration** (in minutes)  \n",
        "from a few simple features:\n",
        "- **Day of week**\n",
        "- **Borough (dropoff location)**\n",
        "- **Hour of day**\n",
        "- **Weather** (rain vs. no rain)\n",
        "\n",
        "We'll use `scikit-learn`s `DecisionTreeRegressor` to build a simple model.\n"
      ],
      "metadata": {
        "id": "0tMTspdSvGEW"
      }
    },
    {
      "cell_type": "code",
      "source": [
        "# Install dependencies (Colab safe)\n",
        "# !pip install scikit-learn requests\n",
        "import requests\n",
        "from datetime import datetime\n",
        "\n",
        "import numpy as np\n",
        "from sklearn.model_selection import train_test_split\n",
        "from sklearn.tree import DecisionTreeRegressor, plot_tree\n",
        "from sklearn.metrics import mean_absolute_error, r2_score"
      ],
      "metadata": {
        "id": "C7RZiD8SvJpg"
      },
      "execution_count": null,
      "outputs": []
    },
    {
      "cell_type": "code",
      "source": [
        "# Merge borough\n",
        "trips_b = trips.merge(\n",
        "    taxi_zones[[\"LocationID\", \"Borough\"]],\n",
        "    left_on=\"DOLocationID\", right_on=\"LocationID\", how=\"left\"\n",
        ").query(\"tpep_pickup_datetime >= '2023-12-31' and Borough != 'Unknown'\")\n",
        "\n",
        "trips_b[[\"trip_minutes\", \"pickup_hour\", \"pickup_dow\", \"Borough\"]].head()"
      ],
      "metadata": {
        "id": "0mL8A0yNxcLo"
      },
      "execution_count": null,
      "outputs": []
    },
    {
      "cell_type": "code",
      "source": [
        "# Pick approximate date range from dataset\n",
        "start_date = trips_b.pickup_date.min()\n",
        "end_date = trips_b.pickup_date.max()\n",
        "\n",
        "# Query daily weather summary for NYC from open-meteo\n",
        "url = (\n",
        "    f\"https://archive-api.open-meteo.com/v1/archive?\"\n",
        "    f\"latitude=40.7&longitude=-74.0&start_date={start_date}&end_date={end_date}\"\n",
        "    f\"&daily=precipitation_sum&timezone=America%2FNew_York\"\n",
        ")\n",
        "\n",
        "resp = requests.get(url)\n",
        "data = resp.json()[\"daily\"]\n",
        "weather_df = pd.DataFrame({\n",
        "    \"date\": pd.to_datetime(data[\"time\"]),\n",
        "    \"rain_total\": np.array(data[\"precipitation_sum\"]),\n",
        "    # precipitation is in mm\n",
        "    \"rain\": (np.array(data[\"precipitation_sum\"]) > 6.0).astype(int)\n",
        "})\n",
        "\n",
        "weather_df.tail()\n"
      ],
      "metadata": {
        "id": "7tgkz2cmxxy_"
      },
      "execution_count": null,
      "outputs": []
    },
    {
      "cell_type": "code",
      "source": [
        "weather_df.rain_total.describe()"
      ],
      "metadata": {
        "id": "uaJl1eXG2Zck"
      },
      "execution_count": null,
      "outputs": []
    },
    {
      "cell_type": "code",
      "source": [
        "# merge in weather\n",
        "trips_w = (\n",
        "    trips_b\n",
        "    .assign(date=lambda d: pd.to_datetime(d.pickup_date))\n",
        "    .merge(weather_df, left_on=\"date\", right_on=\"date\", how=\"left\")\n",
        ")\n"
      ],
      "metadata": {
        "id": "O99ncc__zQxp"
      },
      "execution_count": null,
      "outputs": []
    },
    {
      "cell_type": "code",
      "source": [
        "# let's see\n",
        "trips_w.groupby(\"rain\")[\"trip_minutes\"].mean()"
      ],
      "metadata": {
        "id": "z-k45N6lzv-x"
      },
      "execution_count": null,
      "outputs": []
    },
    {
      "cell_type": "code",
      "source": [
        "# Prepare features\n",
        "model_df = trips_w[[\"tpep_pickup_datetime\", \"trip_minutes\", \"pickup_hour\", \"pickup_dow\", \"Borough\", \"rain\"]].dropna()\n",
        "\n",
        "# Encode categoricals\n",
        "model_df = pd.get_dummies(model_df, columns=[\"pickup_dow\", \"Borough\"], drop_first=True)\n",
        "\n",
        "# split training data on date\n",
        "# X is your input variables, y is what you are trying to predict\n",
        "\n",
        "# get split point based on training fraction\n",
        "train_frac=0.75\n",
        "df = model_df.sort_values(\"tpep_pickup_datetime\").reset_index(drop=True)\n",
        "split_point = df[\"tpep_pickup_datetime\"].quantile(train_frac).strftime(\"%Y-%m-%d\")\n",
        "\n",
        "print(f\"Splitting data on {split_point}\")\n",
        "\n",
        "X_train = df.query(\"tpep_pickup_datetime < @split_point\").drop(columns=[\"trip_minutes\", \"tpep_pickup_datetime\"])\n",
        "X_test = df.query(\"tpep_pickup_datetime >= @split_point\").drop(columns=[\"trip_minutes\", \"tpep_pickup_datetime\"])\n",
        "\n",
        "y_train = df.query(\"tpep_pickup_datetime < @split_point\")[\"trip_minutes\"]\n",
        "y_test = df.query(\"tpep_pickup_datetime >= @split_point\")[\"trip_minutes\"]\n"
      ],
      "metadata": {
        "id": "H5xbwwFQz1eW"
      },
      "execution_count": null,
      "outputs": []
    },
    {
      "cell_type": "code",
      "source": [
        "# # Fit model\n",
        "tree = DecisionTreeRegressor(max_depth=3, random_state=42)\n",
        "tree.fit(X_train, y_train)\n",
        "\n",
        "# # Evaluate by using the model to predict the test data\n",
        "y_pred = tree.predict(X_test)\n",
        "print(f\"MAE: {mean_absolute_error(y_test, y_pred):.2f}\")\n",
        "print(f\"R²: {r2_score(y_test, y_pred):.2f}\")"
      ],
      "metadata": {
        "id": "qeLwtZ5y45dc"
      },
      "execution_count": null,
      "outputs": []
    },
    {
      "cell_type": "markdown",
      "source": [
        "Even a simple tree gives us a quick sense of which features matter most.\n",
        "We’re not trying for high accuracy — the goal is to **connect data features with model reasoning.**\n"
      ],
      "metadata": {
        "id": "PBWpojbU0bxH"
      }
    },
    {
      "cell_type": "code",
      "source": [
        "plt.figure(figsize=(14, 6))\n",
        "plot_tree(tree, feature_names=X_test.columns, filled=True, fontsize=7)\n",
        "plt.title(\"Decision Tree: Predicting Trip Minutes\")\n",
        "plt.show()\n"
      ],
      "metadata": {
        "id": "FBIlS1df0FTc"
      },
      "execution_count": null,
      "outputs": []
    }
  ],
  "metadata": {
    "colab": {
      "provenance": [],
      "include_colab_link": true
    },
    "kernelspec": {
      "display_name": "Python 3",
      "language": "python",
      "name": "python3"
    },
    "language_info": {
      "codemirror_mode": {
        "name": "ipython",
        "version": 3
      },
      "file_extension": ".py",
      "mimetype": "text/x-python",
      "name": "python",
      "nbconvert_exporter": "python",
      "pygments_lexer": "ipython3",
      "version": "3.11.1"
    },
    "orig_nbformat": 4
  },
  "nbformat": 4,
  "nbformat_minor": 0
}