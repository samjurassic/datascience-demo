{
  "cells": [
    {
      "cell_type": "markdown",
      "metadata": {
        "id": "yM-V5SlqNUO6"
      },
      "source": [
        "# Data Skills Lab"
      ]
    },
    {
      "cell_type": "markdown",
      "metadata": {
        "id": "nWCiytA6NUO8"
      },
      "source": [
        "Links:\n",
        "\n",
        "- We will be using NYC taxi data. The code will automatically download the files, but you can find the files and other links here: https://www.nyc.gov/site/tlc/about/tlc-trip-record-data.page\n",
        "- Read the Yellow Taxi data dictionary https://www.nyc.gov/assets/tlc/downloads/pdf/data_dictionary_trip_records_yellow.pdf\n",
        "\n",
        "*Assignment:*\n",
        "\n",
        "Use pandas to read the 2 data files into your Python notebook. Answer the following questions and upload your results here:\n",
        "\n",
        "1. Answer the following questions:\n",
        "\n",
        "- How many pickups happened at each NYC airport?\n",
        "- How many dropoffs happened at each NYC airport?\n",
        "- What is the total amount of airport fees collected at each NYC airport? (JFK and LaGuardia)\n",
        "- What borough destination had the most tips?\n",
        "- What were the top 10 pickup locations by number of passengers?\n",
        "\n",
        "2. Create a data visualization of your choice"
      ]
    },
    {
      "cell_type": "code",
      "execution_count": 57,
      "metadata": {
        "id": "xom7ZLiXNUO8"
      },
      "outputs": [],
      "source": [
        "# import libraries (if running locally, make sure you install these with pip)\n",
        "\n",
        "import pandas as pd\n",
        "import seaborn as sns\n",
        "import matplotlib.pyplot as plt"
      ]
    },
    {
      "cell_type": "code",
      "execution_count": 58,
      "metadata": {
        "id": "gICuoV2BNUO9"
      },
      "outputs": [],
      "source": [
        "# links to data (pandas can load files from links as well as file paths)\n",
        "# January 2024 data\n",
        "taxi_link = (\n",
        "    \"https://d37ci6vzurychx.cloudfront.net/trip-data/yellow_tripdata_2024-01.parquet\"\n",
        ")\n",
        "zone_link = \"https://d37ci6vzurychx.cloudfront.net/misc/taxi_zone_lookup.csv\"\n",
        "\n",
        "# read files using appropriate pd.read_* function for each format\n",
        "trips = pd.read_parquet(taxi_link, engine=\"pyarrow\")\n",
        "taxi_zones = pd.read_csv(zone_link)"
      ]
    },
    {
      "cell_type": "code",
      "execution_count": null,
      "metadata": {
        "colab": {
          "base_uri": "https://localhost:8080/",
          "height": 226
        },
        "id": "q3jl0jtNNUO9",
        "outputId": "df58b9e4-fc2f-4935-c17f-9a38688eb9bd"
      },
      "outputs": [],
      "source": [
        "# use .head() to display the first n rows of the dataframe\n",
        "trips.head()"
      ]
    },
    {
      "cell_type": "code",
      "execution_count": null,
      "metadata": {},
      "outputs": [],
      "source": [
        "taxi_zones.head()"
      ]
    },
    {
      "cell_type": "code",
      "execution_count": 61,
      "metadata": {
        "id": "-5-EYKYaNUO-"
      },
      "outputs": [],
      "source": [
        "# we need to extract date parts from timestamps for grouping later...\n",
        "trips[\"pickup_day\"] = trips[\"tpep_pickup_datetime\"].apply(lambda x: x.day)\n",
        "trips[\"pickup_dow\"] = trips[\"tpep_pickup_datetime\"].apply(lambda x: x.day_name())\n",
        "trips[\"pickup_dow_num\"] = trips[\"tpep_pickup_datetime\"].apply(lambda x: x.day_of_week)"
      ]
    },
    {
      "cell_type": "code",
      "execution_count": null,
      "metadata": {},
      "outputs": [],
      "source": [
        "trips[[\"tpep_pickup_datetime\", \"pickup_day\", \"pickup_dow\", \"pickup_dow_num\"]].head()"
      ]
    },
    {
      "cell_type": "code",
      "execution_count": 63,
      "metadata": {
        "id": "UlSH_a-dNUO-"
      },
      "outputs": [],
      "source": [
        "# I looked up the airport codes so you don't have to\n",
        "airport_list = [132, 138] # JFK, Laguardia\n",
        "\n",
        "# use df.query() to use a SQL-like expression on your dataframe (@ is used to refer to a variable outside the df)\n",
        "airport_zones = taxi_zones.query(\"LocationID in @airport_list\")"
      ]
    },
    {
      "cell_type": "code",
      "execution_count": null,
      "metadata": {},
      "outputs": [],
      "source": [
        "airport_zones"
      ]
    },
    {
      "cell_type": "code",
      "execution_count": 65,
      "metadata": {
        "id": "Xe-HYeurNUO-"
      },
      "outputs": [],
      "source": [
        "# merge taxi zones and trip data to get name of \n",
        "trips_merged_pu = trips.merge(\n",
        "    taxi_zones, left_on=[\"PULocationID\"], right_on=[\"LocationID\"], how=\"inner\"\n",
        ")"
      ]
    },
    {
      "cell_type": "code",
      "execution_count": null,
      "metadata": {
        "id": "wSn8OUIXNUO_",
        "outputId": "66228176-a031-4c03-932d-f905b9a32b96"
      },
      "outputs": [],
      "source": [
        "trips_merged_pu.head()"
      ]
    },
    {
      "cell_type": "code",
      "execution_count": null,
      "metadata": {
        "id": "grU4LwYdNUO_",
        "outputId": "b5d136b5-649c-4424-ab78-c990b2e03bda"
      },
      "outputs": [],
      "source": [
        "trips_merged_pu.info()"
      ]
    },
    {
      "cell_type": "markdown",
      "metadata": {},
      "source": [
        "### 1 - How many pickups happened at each airport?"
      ]
    },
    {
      "cell_type": "code",
      "execution_count": 68,
      "metadata": {
        "id": "g2nTa8NTNUO_"
      },
      "outputs": [],
      "source": [
        "result_1 = (\n",
        "    # filter to just airport locations\n",
        "    trips_merged_pu.query(\"PULocationID in @airport_list\")\n",
        "    # group by location (Zone)\n",
        "    .groupby([\"Zone\"])\n",
        "    # use .agg to pass a dict of {column: function} pairs for aggregation\n",
        "    .agg({\"Zone\": \"count\", \"passenger_count\": \"sum\"})\n",
        ")\n",
        "\n",
        "result_1.columns = [\"pickup_count\", \"passenger_count\"]\n",
        "result_1.reset_index(inplace=True)"
      ]
    },
    {
      "cell_type": "code",
      "execution_count": null,
      "metadata": {
        "id": "kOXr3F-SNUO_",
        "outputId": "4252d161-7e68-4961-8da7-2a71c0b24664"
      },
      "outputs": [],
      "source": [
        "result_1"
      ]
    },
    {
      "cell_type": "code",
      "execution_count": null,
      "metadata": {
        "id": "F1xILmpiNUO_"
      },
      "outputs": [],
      "source": [
        "sns.barplot(result_1, x=\"Zone\", y=\"pickup_count\")"
      ]
    },
    {
      "cell_type": "markdown",
      "metadata": {},
      "source": [
        "### 2 - How many dropoffs happened at each NYC airport?"
      ]
    },
    {
      "cell_type": "code",
      "execution_count": 71,
      "metadata": {
        "id": "BXZ41QF6NUPA"
      },
      "outputs": [],
      "source": [
        "# we are going to do the opposite merge on dropoff ID (DOLocationID)\n",
        "trips_merged_do = trips.merge(\n",
        "    taxi_zones.query(\"LocationID in @airport_list\"),\n",
        "    left_on=[\"DOLocationID\"],\n",
        "    right_on=[\"LocationID\"],\n",
        "    how=\"inner\",\n",
        ")"
      ]
    },
    {
      "cell_type": "code",
      "execution_count": null,
      "metadata": {
        "id": "eMngQDEjNUPA",
        "outputId": "42b0bd6a-e1ed-4791-b024-19f1d280860c"
      },
      "outputs": [],
      "source": [
        "trips_merged_do.shape"
      ]
    },
    {
      "cell_type": "code",
      "execution_count": 73,
      "metadata": {
        "id": "koWY6sgoNUPA"
      },
      "outputs": [],
      "source": [
        "result_2 = trips_merged_do.groupby([\"Zone\"]).agg(\n",
        "    {\"Zone\": \"count\", \"passenger_count\": \"sum\"}\n",
        ")\n",
        "result_2.columns = [\"dropoff_count\", \"passenger_count\"]\n",
        "result_2.reset_index(inplace=True)"
      ]
    },
    {
      "cell_type": "code",
      "execution_count": null,
      "metadata": {
        "id": "Z7VpLoqONUPA",
        "outputId": "ca0e0420-1d1d-4e06-e897-3b15f196c328"
      },
      "outputs": [],
      "source": [
        "result_2"
      ]
    },
    {
      "cell_type": "code",
      "execution_count": null,
      "metadata": {
        "id": "rxMbrOI1NUPA"
      },
      "outputs": [],
      "source": [
        "sns.barplot(result_2, x=\"Zone\", y=\"dropoff_count\")"
      ]
    },
    {
      "cell_type": "code",
      "execution_count": null,
      "metadata": {},
      "outputs": [],
      "source": [
        "trips.columns"
      ]
    },
    {
      "cell_type": "markdown",
      "metadata": {},
      "source": [
        "### 3 - What is the total amount of airport fees collected at each NYC airport? (JFK and LaGuardia)\n",
        "\n",
        "Tip, airport fee is collected by Taxi meter if picked up at an airport"
      ]
    },
    {
      "cell_type": "code",
      "execution_count": 77,
      "metadata": {
        "id": "K4AB7YNqNUPA"
      },
      "outputs": [],
      "source": [
        "result_3 = (\n",
        "    trips.query(\"PULocationID in @airport_list\")\n",
        "    .groupby(\"PULocationID\")\n",
        "    .agg({\"Airport_fee\": \"sum\", \"PULocationID\": \"count\"})\n",
        ")\n",
        "\n",
        "result_3.columns = [\"airport_fee_sum\", \"pickup_count\"]"
      ]
    },
    {
      "cell_type": "code",
      "execution_count": 78,
      "metadata": {
        "id": "zrGev8K4NUPA"
      },
      "outputs": [],
      "source": [
        "result_3 = result_3.merge(\n",
        "    taxi_zones, left_on=\"PULocationID\", right_on=\"LocationID\", how=\"inner\"\n",
        ")"
      ]
    },
    {
      "cell_type": "code",
      "execution_count": null,
      "metadata": {},
      "outputs": [],
      "source": [
        "result_3"
      ]
    },
    {
      "cell_type": "code",
      "execution_count": null,
      "metadata": {
        "id": "FlqoZpTfNUPA"
      },
      "outputs": [],
      "source": [
        "sns.barplot(result_3, x=\"Zone\", y=\"airport_fee_sum\")"
      ]
    },
    {
      "cell_type": "markdown",
      "metadata": {},
      "source": [
        "### 4 - What borough destination had the most tips?"
      ]
    },
    {
      "cell_type": "code",
      "execution_count": 81,
      "metadata": {
        "id": "NRI6YamGNUPA",
        "outputId": "8d9cb23d-d422-43ee-829a-08111084d70b"
      },
      "outputs": [],
      "source": [
        "trips_merged_do_all = trips.merge(\n",
        "    taxi_zones, left_on=[\"DOLocationID\"], right_on=[\"LocationID\"], how=\"left\"\n",
        ")\n",
        "\n",
        "borough_metrics = (\n",
        "    trips_merged_do_all.groupby(\"Borough\")\n",
        "    .agg(\n",
        "        {\n",
        "            \"tip_amount\": \"sum\",\n",
        "            \"DOLocationID\": \"count\",\n",
        "            \"trip_distance\": \"mean\",\n",
        "        }\n",
        "    )\n",
        "    .reset_index()\n",
        ")"
      ]
    },
    {
      "cell_type": "code",
      "execution_count": null,
      "metadata": {
        "id": "6kZRIYddNUPA",
        "outputId": "1937fca9-b55e-4568-e5e8-16810b7f89f0"
      },
      "outputs": [],
      "source": [
        "borough_metrics.head()"
      ]
    },
    {
      "cell_type": "code",
      "execution_count": null,
      "metadata": {
        "id": "iwzrn4yrNUPA",
        "outputId": "e7ff45a1-cdd0-4832-fc07-38efcc2ad26d"
      },
      "outputs": [],
      "source": [
        "borough_metrics[[\"Borough\", \"tip_amount\"]]"
      ]
    },
    {
      "cell_type": "code",
      "execution_count": null,
      "metadata": {
        "id": "dROoi69aNUPB"
      },
      "outputs": [],
      "source": [
        "sns.barplot(borough_metrics, x=\"Borough\", y=\"tip_amount\")"
      ]
    },
    {
      "cell_type": "code",
      "execution_count": null,
      "metadata": {
        "id": "EmxeuJKzNUPB"
      },
      "outputs": [],
      "source": [
        "trips_merged_pu.head()"
      ]
    },
    {
      "cell_type": "markdown",
      "metadata": {},
      "source": [
        "### 5 - What were the top 10 pickup locations by number of passengers?"
      ]
    },
    {
      "cell_type": "code",
      "execution_count": 88,
      "metadata": {
        "id": "CcHikdSkNUPB",
        "outputId": "a6c2b601-6cc9-49dc-dec4-2594f0c9e3b6"
      },
      "outputs": [],
      "source": [
        "result_5 = pd.DataFrame(\n",
        "    trips_merged_pu.groupby(\"Zone\")[\"passenger_count\"]\n",
        "    .sum()\n",
        "    .sort_values(ascending=False)[0:10]\n",
        ").reset_index()"
      ]
    },
    {
      "cell_type": "code",
      "execution_count": null,
      "metadata": {
        "id": "SQWXIJSUNUPB"
      },
      "outputs": [],
      "source": [
        "ax = sns.barplot(result_5, x=\"Zone\", y=\"passenger_count\")\n",
        "# rotate ticks \n",
        "plt.xticks(rotation=80)\n",
        "plt.show()"
      ]
    }
  ],
  "metadata": {
    "colab": {
      "provenance": []
    },
    "kernelspec": {
      "display_name": "Python 3",
      "language": "python",
      "name": "python3"
    },
    "language_info": {
      "codemirror_mode": {
        "name": "ipython",
        "version": 3
      },
      "file_extension": ".py",
      "mimetype": "text/x-python",
      "name": "python",
      "nbconvert_exporter": "python",
      "pygments_lexer": "ipython3",
      "version": "3.11.1"
    },
    "orig_nbformat": 4
  },
  "nbformat": 4,
  "nbformat_minor": 0
}
