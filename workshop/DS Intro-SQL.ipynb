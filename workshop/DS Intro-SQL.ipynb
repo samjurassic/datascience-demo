{
 "cells": [
  {
   "attachments": {},
   "cell_type": "markdown",
   "metadata": {},
   "source": [
    "# Data Science 1: Working with data in SQL"
   ]
  },
  {
   "attachments": {},
   "cell_type": "markdown",
   "metadata": {},
   "source": [
    "This notebook reviews some SQL analysis basics using SQLite, Pandas, and a dataset from Seaborn. Completing the notebook will verify that you have the correct python libraries installed for our data visualization and analysis exercises. There are Exercise cells with commented out code - you should uncomment the code by removing the `#` and write your own solution."
   ]
  },
  {
   "cell_type": "code",
   "execution_count": null,
   "metadata": {},
   "outputs": [],
   "source": [
    "# import libraries we will use\n",
    "\n",
    "import sqlite3\n",
    "import pandas as pd\n",
    "import seaborn as sns"
   ]
  },
  {
   "cell_type": "code",
   "execution_count": null,
   "metadata": {},
   "outputs": [],
   "source": [
    "# create local database file and connection\n",
    "con = sqlite3.connect('mydatabase.db')\n",
    "\n",
    "# load data from seaborn\n",
    "health_df = sns.load_dataset(\"healthexp\")\n",
    "\n",
    "# use pandas to_sql to create a table called 'healthexp' in the sqlite database\n",
    "try:\n",
    "    health_df.to_sql(\"healthexp\", con, index=False)\n",
    "except ValueError:\n",
    "    print(\"Table already exists\")"
   ]
  },
  {
   "attachments": {},
   "cell_type": "markdown",
   "metadata": {},
   "source": [
    "### Data exploration"
   ]
  },
  {
   "cell_type": "code",
   "execution_count": null,
   "metadata": {},
   "outputs": [],
   "source": [
    "# let's have a look at the table of data we just created using SELECT\n",
    "# (LIMIT can be used to limit the number of rows returned, but beware the result may not be in order)\n",
    "\n",
    "query = \"\"\"SELECT * FROM healthexp LIMIT 5\"\"\"\n",
    "pd.read_sql_query(query, con)"
   ]
  },
  {
   "cell_type": "code",
   "execution_count": null,
   "metadata": {},
   "outputs": [],
   "source": [
    "# what years are in the data set? we can use max and min on the year column to find out\n",
    "\n",
    "query = \"\"\"SELECT COUNT(DISTINCT year), max(year), min(year) FROM healthexp\"\"\"\n",
    "pd.read_sql_query(query, con)"
   ]
  },
  {
   "attachments": {},
   "cell_type": "markdown",
   "metadata": {},
   "source": [
    "### Filtering data using a condition (WHERE clauses)"
   ]
  },
  {
   "cell_type": "code",
   "execution_count": null,
   "metadata": {},
   "outputs": [],
   "source": [
    "# WHERE can be added after the SELECT FROM to filter the data in your query using conditions\n",
    "# You can use a single condition or multiple conditions using AND and OR as well as parentheses\n",
    "\n",
    "query = \"\"\"\n",
    "    SELECT * FROM healthexp\n",
    "    WHERE country = 'Japan' AND year = 1975\n",
    "\"\"\"\n",
    "pd.read_sql_query(query, con)"
   ]
  },
  {
   "cell_type": "code",
   "execution_count": null,
   "metadata": {},
   "outputs": [],
   "source": [
    "# The following where clause uses BETWEEN to return a specific range of years \n",
    "query = \"\"\"\n",
    "    SELECT * from healthexp\n",
    "    WHERE country = 'Japan' AND year BETWEEN 1975 AND 1985 \n",
    "    ORDER BY year DESC\n",
    "\"\"\"\n",
    "pd.read_sql_query(query, con)"
   ]
  },
  {
   "cell_type": "markdown",
   "metadata": {},
   "source": [
    "### Exercise: What was the life expectancy in Germany in 1985?"
   ]
  },
  {
   "cell_type": "code",
   "execution_count": null,
   "metadata": {},
   "outputs": [],
   "source": [
    "# query = \"\"\"\n",
    "#     UNCOMMENT AND WRITE YOUR QUERY HERE\n",
    "# \"\"\"\n",
    "# pd.read_sql_query(query, con)"
   ]
  },
  {
   "attachments": {},
   "cell_type": "markdown",
   "metadata": {},
   "source": [
    "### Group By - aggregation functions"
   ]
  },
  {
   "cell_type": "code",
   "execution_count": null,
   "metadata": {},
   "outputs": [],
   "source": [
    "# GROUP BY - avg, count, sum, max, min\n",
    "query = \"\"\"\n",
    "    SELECT country, avg(life_expectancy) as avg_life_expectancy\n",
    "    FROM healthexp\n",
    "    GROUP BY country\n",
    "\"\"\"\n",
    "pd.read_sql_query(query, con)"
   ]
  },
  {
   "attachments": {},
   "cell_type": "markdown",
   "metadata": {},
   "source": [
    "### Exercise: What country had the highest sum of health expenditure in between 1990 and 2000 (inclusive)"
   ]
  },
  {
   "cell_type": "code",
   "execution_count": null,
   "metadata": {},
   "outputs": [],
   "source": [
    "# query = \"\"\"\n",
    "#     UNCOMMENT AND WRITE YOUR QUERY HERE\n",
    "# \"\"\"\n",
    "# pd.read_sql_query(query, con)"
   ]
  },
  {
   "attachments": {},
   "cell_type": "markdown",
   "metadata": {},
   "source": [
    "### Filtering Group By results with HAVING"
   ]
  },
  {
   "cell_type": "code",
   "execution_count": null,
   "metadata": {},
   "outputs": [],
   "source": [
    "# HAVING - this is a condition similar to WHERE but applied to the result of the group by\n",
    "# ORDER BY - a column to order the query result by, ascending by default, adding DESC will reverse the order\n",
    "query = \"\"\"\n",
    "    SELECT country, sum(spending_usd) as sum_spending\n",
    "    FROM healthexp\n",
    "    WHERE year BETWEEN 1990 and 2000\n",
    "    GROUP BY country\n",
    "    HAVING sum_spending > 20000\n",
    "    ORDER BY sum_spending DESC\n",
    "\"\"\"\n",
    "pd.read_sql_query(query, con)"
   ]
  },
  {
   "attachments": {},
   "cell_type": "markdown",
   "metadata": {},
   "source": [
    "### Exercise: What countries had average life expectancy above 73 between 1970 and 1979?"
   ]
  },
  {
   "cell_type": "code",
   "execution_count": null,
   "metadata": {},
   "outputs": [],
   "source": [
    "# query = \"\"\"\n",
    "#     UNCOMMENT AND WRITE YOUR QUERY HERE\n",
    "# \"\"\"\n",
    "# pd.read_sql_query(query, con)"
   ]
  },
  {
   "attachments": {},
   "cell_type": "markdown",
   "metadata": {},
   "source": [
    "When you are done, the following code will erase the table we created from the database file and close the database connection"
   ]
  },
  {
   "cell_type": "code",
   "execution_count": null,
   "metadata": {},
   "outputs": [],
   "source": [
    "# cleanup\n",
    "# drop table\n",
    "con.execute(\"DROP TABLE healthexp\")\n",
    "  \n",
    "# close the connection\n",
    "con.close()"
   ]
  }
 ],
 "metadata": {
  "kernelspec": {
   "display_name": "qless_test",
   "language": "python",
   "name": "qless_test"
  },
  "language_info": {
   "codemirror_mode": {
    "name": "ipython",
    "version": 3
   },
   "file_extension": ".py",
   "mimetype": "text/x-python",
   "name": "python",
   "nbconvert_exporter": "python",
   "pygments_lexer": "ipython3",
   "version": "3.11.1"
  },
  "orig_nbformat": 4
 },
 "nbformat": 4,
 "nbformat_minor": 2
}
