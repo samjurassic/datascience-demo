{
  "cells": [
    {
      "cell_type": "markdown",
      "metadata": {
        "colab_type": "text",
        "id": "view-in-github"
      },
      "source": [
        "<a href=\"https://colab.research.google.com/github/samjurassic/datascience-demo/blob/main/recycle.ipynb\" target=\"_parent\"><img src=\"https://colab.research.google.com/assets/colab-badge.svg\" alt=\"Open In Colab\"/></a>"
      ]
    },
    {
      "cell_type": "code",
      "execution_count": 1,
      "metadata": {
        "id": "m8LAOLhujPHs"
      },
      "outputs": [],
      "source": [
        "import re\n",
        "import pandas as pd\n",
        "import seaborn as sns\n",
        "import datetime as dt\n"
      ]
    },
    {
      "cell_type": "code",
      "execution_count": null,
      "metadata": {
        "id": "AL1idXDRjUsh"
      },
      "outputs": [],
      "source": [
        "recycle = pd.read_csv(\"/content/Recycling_Diversion_and_Capture_Rates_20240608.csv\")"
      ]
    },
    {
      "cell_type": "code",
      "execution_count": null,
      "metadata": {
        "colab": {
          "base_uri": "https://localhost:8080/",
          "height": 328
        },
        "id": "3VS-cgxEkPMg",
        "outputId": "50c6c6c7-a7cf-45cf-b74d-06b51247a194"
      },
      "outputs": [],
      "source": [
        "recycle.head()"
      ]
    },
    {
      "cell_type": "code",
      "execution_count": null,
      "metadata": {
        "id": "SMEuCUCNs2iR"
      },
      "outputs": [],
      "source": [
        "def col_formatter(x):\n",
        "  xs = re.split(r\"\\({1,2}\", x)[0].lower().strip()\n",
        "  xs = re.sub(\"\\s|-\", \"_\", xs)\n",
        "  return xs\n",
        "\n",
        "recycle.columns = [col_formatter(c) for c in recycle.columns]"
      ]
    },
    {
      "cell_type": "code",
      "execution_count": null,
      "metadata": {
        "colab": {
          "base_uri": "https://localhost:8080/",
          "height": 394
        },
        "id": "_NINjvOZjg7A",
        "outputId": "f6e8edeb-ced2-4dd4-abe5-039d23d52ec5"
      },
      "outputs": [],
      "source": [
        "recycle.describe(include=\"all\")"
      ]
    },
    {
      "cell_type": "code",
      "execution_count": null,
      "metadata": {
        "id": "WGBVHQQKqswY"
      },
      "outputs": [],
      "source": [
        "def date_formatter(yr, mo):\n",
        "  d = dt.datetime.strptime(f\"{yr}-{mo}\", \"%Y-%B\").date()\n",
        "  return d"
      ]
    },
    {
      "cell_type": "code",
      "execution_count": null,
      "metadata": {
        "id": "AvCEpq-zm_a7"
      },
      "outputs": [],
      "source": [
        "recycle[\"date\"] = recycle.apply(lambda df: date_formatter(df.fiscal_year, df.month_name), axis=1)\n",
        "\n",
        "recycle[\"calendar_month\"] = recycle.date.apply(lambda x: x.month)"
      ]
    },
    {
      "cell_type": "code",
      "execution_count": null,
      "metadata": {
        "colab": {
          "base_uri": "https://localhost:8080/",
          "height": 313
        },
        "id": "i8YYtNvlpLG7",
        "outputId": "c1a288a4-fc2e-4832-b23b-2177ac98e3b5"
      },
      "outputs": [],
      "source": [
        "recycle.head()"
      ]
    },
    {
      "cell_type": "code",
      "execution_count": null,
      "metadata": {
        "id": "M_EJGVJkjqvQ"
      },
      "outputs": [],
      "source": [
        "rzm = (recycle\n",
        "       .groupby([\"zone\", \"month_name\", \"calendar_month\"])[\"diversion_rate_total\"]\n",
        "       .mean()\n",
        "       .reset_index()\n",
        "       .sort_values([\"zone\", \"calendar_month\"]))"
      ]
    },
    {
      "cell_type": "code",
      "execution_count": null,
      "metadata": {
        "colab": {
          "base_uri": "https://localhost:8080/",
          "height": 206
        },
        "id": "7SMMvQwdk2AH",
        "outputId": "e1231720-ab15-4763-acd1-df3d25a5a11e"
      },
      "outputs": [],
      "source": [
        "rzm.head()"
      ]
    },
    {
      "cell_type": "code",
      "execution_count": null,
      "metadata": {
        "id": "8N0jtYuMJvKZ"
      },
      "outputs": [],
      "source": [
        "def month_name(x):\n",
        "  return dt.date(2020, x, 1).strftime(\"%B\")"
      ]
    },
    {
      "cell_type": "code",
      "execution_count": null,
      "metadata": {
        "colab": {
          "base_uri": "https://localhost:8080/",
          "height": 530
        },
        "id": "jXS1LdVWk38q",
        "outputId": "6a3b4611-96c7-4fc0-af18-6dfbaefe5e48"
      },
      "outputs": [],
      "source": [
        "df = rzm.pivot(index=\"zone\", columns=[\"calendar_month\"], values=\"diversion_rate_total\")\n",
        "\n",
        "sns.heatmap(df, xticklabels=[month_name(c) for c in df.columns.to_list()], cmap=\"Greens\")"
      ]
    },
    {
      "cell_type": "code",
      "execution_count": null,
      "metadata": {
        "colab": {
          "base_uri": "https://localhost:8080/",
          "height": 924
        },
        "id": "qnfr48O1wV_H",
        "outputId": "dff5ca7b-457c-466f-d920-d3066f22bf0b"
      },
      "outputs": [],
      "source": [
        "g = sns.FacetGrid(recycle, col=\"zone\", col_wrap=3)\n",
        "g.map_dataframe(sns.histplot, x=\"capture_rate_paper\")\n",
        "\n",
        "\n",
        "# sns.histplot(recycle, x=\"capture_rate_paper\", hue=\"zone\")"
      ]
    },
    {
      "cell_type": "code",
      "execution_count": null,
      "metadata": {
        "id": "nM2escSTKHaJ"
      },
      "outputs": [],
      "source": [
        "rzm = (recycle\n",
        "       .groupby([\"fiscal_year\", \"zone\"])[\"diversion_rate_total\"]\n",
        "       .mean()\n",
        "       .reset_index()\n",
        "       .sort_values([\"fiscal_year\", \"zone\"]))"
      ]
    },
    {
      "cell_type": "code",
      "execution_count": null,
      "metadata": {
        "colab": {
          "base_uri": "https://localhost:8080/",
          "height": 468
        },
        "id": "JxmL7th9KSwP",
        "outputId": "3ab6d733-2015-43e1-ad2e-48f659a5fa99"
      },
      "outputs": [],
      "source": [
        "sns.lineplot(rzm, x=\"fiscal_year\", y=\"diversion_rate_total\", hue=\"zone\")"
      ]
    },
    {
      "cell_type": "markdown",
      "metadata": {
        "id": "7yCzNZjZKoof"
      },
      "source": [
        "**Assignment:**\n",
        "\n",
        "1. Make a lineplot of mean capture_rate_paper from 2016-2019 grouped by zone and fiscal_year\n",
        "2. What district had the highest average diversion_rate_total in each fiscal_year?\n",
        "3. What district had the lowest average diversion_rate_total in each fiscal_year?\n",
        "4. Make a barplot of annual mean capture_rate_paper for Brooklyn South and Brooklyn North combined into one \"Brooklyn\"\n",
        "5. Extra credit: make a plot of your choice"
      ]
    }
  ],
  "metadata": {
    "colab": {
      "authorship_tag": "ABX9TyPmnG+ygW1dR0SBaM0s9bLV",
      "include_colab_link": true,
      "provenance": []
    },
    "kernelspec": {
      "display_name": "Python 3",
      "name": "python3"
    },
    "language_info": {
      "codemirror_mode": {
        "name": "ipython",
        "version": 3
      },
      "file_extension": ".py",
      "mimetype": "text/x-python",
      "name": "python",
      "nbconvert_exporter": "python",
      "pygments_lexer": "ipython3",
      "version": "3.11.1"
    }
  },
  "nbformat": 4,
  "nbformat_minor": 0
}
