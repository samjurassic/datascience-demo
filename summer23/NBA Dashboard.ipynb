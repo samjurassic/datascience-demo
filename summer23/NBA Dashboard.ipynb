{
 "cells": [
  {
   "cell_type": "code",
   "execution_count": null,
   "metadata": {},
   "outputs": [],
   "source": [
    "import pandas as pd\n",
    "import seaborn as sns"
   ]
  },
  {
   "cell_type": "code",
   "execution_count": null,
   "metadata": {},
   "outputs": [],
   "source": [
    "# data from https://www.basketball-reference.com/teams/BRK/2024.html (Accessed: 3/17/2024)\n",
    "stats = pd.read_csv(\"brooklyn_nets.csv\")\n",
    "salaries = pd.read_csv(\"nets_salaries.csv\")\n",
    "players = pd.read_csv(\"nets_players.csv\")"
   ]
  },
  {
   "cell_type": "code",
   "execution_count": null,
   "metadata": {},
   "outputs": [],
   "source": [
    "players.head()"
   ]
  },
  {
   "cell_type": "code",
   "execution_count": null,
   "metadata": {},
   "outputs": [],
   "source": [
    "salaries.head()"
   ]
  },
  {
   "cell_type": "code",
   "execution_count": null,
   "metadata": {},
   "outputs": [],
   "source": [
    "stats.head()"
   ]
  },
  {
   "cell_type": "code",
   "execution_count": null,
   "metadata": {},
   "outputs": [],
   "source": [
    "stats.columns"
   ]
  },
  {
   "cell_type": "code",
   "execution_count": null,
   "metadata": {},
   "outputs": [],
   "source": [
    "# Who are the top 10 players by 3 pointers?\n",
    "# sns.barplot()\n",
    "\n",
    "ax = sns.barplot(\n",
    "    nets.sort_values(\"3P\", ascending=False).iloc[0:10,],\n",
    "    x=r\"3P\",\n",
    "    y=\"Player\"\n",
    ")\n",
    "\n",
    "# uncomment to add data labels to bars\n",
    "ax.bar_label(ax.containers[0], fontsize=10);"
   ]
  },
  {
   "cell_type": "code",
   "execution_count": null,
   "metadata": {},
   "outputs": [],
   "source": [
    "salaries_pts = salaries.merge(nets, on=\"Player\")"
   ]
  },
  {
   "cell_type": "code",
   "execution_count": null,
   "metadata": {},
   "outputs": [],
   "source": [
    "salaries_pts[[\"Age_x\", \"2023-24\", \"PTS\", \"3P\"]].corr()"
   ]
  },
  {
   "cell_type": "code",
   "execution_count": null,
   "metadata": {},
   "outputs": [],
   "source": [
    "sns.scatterplot(salaries_pts, y=\"2023-24\", x=\"PTS\")"
   ]
  },
  {
   "cell_type": "markdown",
   "metadata": {},
   "source": [
    "## Assignment\n",
    "\n",
    "Use the 3 data tables to create a Brooklyn Nets dashboard:\n",
    "- Choose up to 5 Plots/Tables to include\n",
    "- Merge the salary and player info to create new data frames\n",
    "- Lay out your plots on a google slide"
   ]
  }
 ],
 "metadata": {
  "kernelspec": {
   "display_name": "qless_test",
   "language": "python",
   "name": "qless_test"
  },
  "language_info": {
   "codemirror_mode": {
    "name": "ipython",
    "version": 3
   },
   "file_extension": ".py",
   "mimetype": "text/x-python",
   "name": "python",
   "nbconvert_exporter": "python",
   "pygments_lexer": "ipython3",
   "version": "3.11.1"
  }
 },
 "nbformat": 4,
 "nbformat_minor": 2
}
