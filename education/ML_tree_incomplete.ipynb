{
  "cells": [
    {
      "cell_type": "code",
      "execution_count": null,
      "metadata": {
        "id": "xWTGJePfBCsm"
      },
      "outputs": [],
      "source": [
        "# Load libraries\n",
        "import pandas as pd\n",
        "\n",
        "import seaborn as sns\n",
        "import matplotlib.pyplot as plt\n",
        "import pydotplus\n",
        "\n",
        "from IPython.display import Image\n",
        "from sklearn.tree import DecisionTreeClassifier\n",
        "from sklearn.ensemble import RandomForestClassifier, GradientBoostingClassifier\n",
        "from sklearn.model_selection import train_test_split\n",
        "from sklearn import metrics\n",
        "from sklearn.tree import export_graphviz\n",
        "from io import StringIO"
      ]
    },
    {
      "cell_type": "code",
      "execution_count": null,
      "metadata": {
        "colab": {
          "base_uri": "https://localhost:8080/",
          "height": 362
        },
        "id": "EeFiA0gJBAwx",
        "outputId": "0cecc7eb-2f32-4017-f010-8329d7890762"
      },
      "outputs": [],
      "source": [
        "students = pd.read_csv(\"competition_data_v2.csv\")\n",
        "\n",
        "students.describe()"
      ]
    },
    {
      "cell_type": "code",
      "execution_count": null,
      "metadata": {
        "id": "WRKvoB8PCRUl"
      },
      "outputs": [],
      "source": [
        "# recode DWFI as 0, P as 1\n",
        "students[\"outcome\"] = students.grade.apply(lambda x: int(x == \"DWFI\"))\n",
        "\n",
        "# create dummy variables (0, 1) for borough and major\n",
        "students_full = pd.get_dummies(students, columns=[\"borough\", \"major\"], drop_first=True)\n",
        "# students_full.columns\n",
        "\n",
        "#split dataset in features and target variable\n",
        "feature_cols = ['age', 'gpa', 'full_time', 'freshman', 'first_generation', 'employed',\n",
        "       'pell_grant', 'borough_Brooklyn', 'borough_Manhattan',\n",
        "       'borough_Outside NYC', 'borough_Queens', 'borough_Staten Island',\n",
        "       'major_Computer Science']\n",
        "\n",
        "X = students_full[feature_cols] # Features\n",
        "y = students_full.outcome # Target variable\n",
        "\n",
        "# Use train_test_split to split dataset into training set and test set\n",
        "X_train, X_test, y_train, y_test = train_test_split(X, y, test_size=0.6, random_state=15) # 70% training and 30% test"
      ]
    },
    {
      "cell_type": "code",
      "execution_count": null,
      "metadata": {
        "colab": {
          "base_uri": "https://localhost:8080/"
        },
        "id": "DW7QZnm6C66B",
        "outputId": "1fb4630a-c8cd-46ef-be7a-7b0632618572"
      },
      "outputs": [],
      "source": [
        "# Create Decision Tree classifer object\n",
        "clf = DecisionTreeClassifier(criterion=\"gini\", max_depth=4)\n",
        "\n",
        "# Train Decision Tree Classifer\n",
        "clf = clf.fit(X_train,y_train)\n",
        "\n",
        "#Predict the response for test dataset\n",
        "y_pred = clf.predict(X_test)\n",
        "\n",
        "### EVALUATE THE MODEL\n",
        "\n",
        "# Model Accuracy, how often is the classifier correct?\n",
        "print(\"Accuracy:\",metrics.accuracy_score(y_test, y_pred).round(3))\n",
        "\n",
        "# precision: true predicted positives/all predicted positives\n",
        "print(\"Precision:\", metrics.precision_score(y_test, y_pred).round(3))\n",
        "\n",
        "# recall:  true predicted positives/all true positives\n",
        "print(\"Recall:\",metrics.recall_score(y_test, y_pred).round(3))\n",
        "\n",
        "# Confusion Matrix\n",
        "c_matrix = metrics.confusion_matrix(y_pred=y_pred, y_true=y_test)\n",
        "print(c_matrix)"
      ]
    },
    {
      "cell_type": "code",
      "execution_count": null,
      "metadata": {
        "colab": {
          "base_uri": "https://localhost:8080/",
          "height": 429
        },
        "id": "kXAMfQ5gDYPX",
        "outputId": "2bbfe028-4379-4478-cd33-a8ff3c12d890"
      },
      "outputs": [],
      "source": [
        "# graph decision tree\n",
        "dot_data = StringIO()\n",
        "export_graphviz(clf, out_file=dot_data,\n",
        "                filled=True, rounded=True,\n",
        "                special_characters=True,feature_names = feature_cols,class_names=['P','DWFI'])\n",
        "\n",
        "graph = pydotplus.graph_from_dot_data(dot_data.getvalue())\n",
        "graph.write_png('students.png')\n",
        "Image(graph.create_png())"
      ]
    },
    {
      "cell_type": "code",
      "execution_count": null,
      "metadata": {
        "colab": {
          "base_uri": "https://localhost:8080/"
        },
        "id": "mgWJodTZM7og",
        "outputId": "575b339f-2d60-4203-9408-3c3524622b28"
      },
      "outputs": [],
      "source": [
        "### RANDOM FOREST\n",
        "\n",
        "# Create Decision Tree classifer object\n",
        "clf_rf = RandomForestClassifier(criterion=\"gini\", max_depth=3, n_estimators=100)\n",
        "\n",
        "# Train Decision Tree Classifer\n",
        "clf_rf = clf_rf.fit(X_train,y_train)\n",
        "\n",
        "#Predict the response for test dataset\n",
        "y_pred_rf = clf_rf.predict(X_test)\n",
        "\n",
        "### EVALUATE THE MODEL\n",
        "\n",
        "# Model Accuracy, how often is the classifier correct?\n",
        "print(\"Accuracy:\",metrics.accuracy_score(y_test, y_pred_rf).round(3))\n",
        "\n",
        "# precision: true predicted positives/all predicted positives\n",
        "print(\"Precision:\", metrics.precision_score(y_test, y_pred_rf).round(3))\n",
        "\n",
        "# recall:  true predicted positives/all true positives\n",
        "print(\"Recall:\",metrics.recall_score(y_test, y_pred_rf).round(3))\n",
        "\n",
        "# Confusion Matrix\n",
        "c_matrix = metrics.confusion_matrix(y_pred=y_pred_rf, y_true=y_test)\n",
        "print(c_matrix)"
      ]
    },
    {
      "cell_type": "code",
      "execution_count": null,
      "metadata": {
        "colab": {
          "base_uri": "https://localhost:8080/"
        },
        "id": "ncVl5yWoNOUN",
        "outputId": "0babf674-cb0c-40b5-b746-4bf526a6e9a9"
      },
      "outputs": [],
      "source": [
        "### GRADIENT BOOSTING\n",
        "\n",
        "# Create Decision Tree classifer object\n",
        "clf_gb = GradientBoostingClassifier(max_depth=3, n_estimators=100, learning_rate=0.05)\n",
        "\n",
        "# Train Decision Tree Classifer\n",
        "clf_gb = clf_gb.fit(X_train,y_train)\n",
        "\n",
        "#Predict the response for test dataset\n",
        "y_pred_gb = clf_gb.predict(X_test)\n",
        "\n",
        "### EVALUATE THE MODEL\n",
        "\n",
        "# Model Accuracy, how often is the classifier correct?\n",
        "print(\"Accuracy:\", metrics.accuracy_score(y_test, y_pred_gb).round(3))\n",
        "\n",
        "# precision: true predicted positives/all predicted positives\n",
        "print(\"Precision:\", metrics.precision_score(y_test, y_pred_gb).round(3))\n",
        "\n",
        "# recall:  true predicted positives/all true positives\n",
        "print(\"Recall:\", metrics.recall_score(y_test, y_pred_gb).round(3))\n",
        "\n",
        "# Confusion Matrix\n",
        "c_matrix = metrics.confusion_matrix(y_pred=y_pred_gb, y_true=y_test)\n",
        "print(c_matrix)"
      ]
    },
    {
      "cell_type": "code",
      "execution_count": null,
      "metadata": {
        "colab": {
          "base_uri": "https://localhost:8080/"
        },
        "id": "AotiRe4NPn3Y",
        "outputId": "0ba0e521-5e30-4401-9f97-dd3dfe284872"
      },
      "outputs": [],
      "source": [
        "### Compare AUC\n",
        "\n",
        "## NOTE: You need predicted probabilities to do this - not predicted classes\n",
        "\n",
        "print(f\"Decision tree: {round(metrics.roc_auc_score(y_test, clf.predict_proba(X_test)[:,1]), 4)}\")\n",
        "print(f\"Random forest: {round(metrics.roc_auc_score(y_test, clf_rf.predict_proba(X_test)[:,1]), 4)}\")\n",
        "print(f\"Gradient boosting: {round(metrics.roc_auc_score(y_test, clf_gb.predict_proba(X_test)[:,1]), 4)}\")\n"
      ]
    },
    {
      "cell_type": "code",
      "execution_count": null,
      "metadata": {
        "colab": {
          "base_uri": "https://localhost:8080/",
          "height": 467
        },
        "id": "lLJEYUb0Nw5q",
        "outputId": "b8373cc3-11dd-49c1-cd7b-d28bc6f63c9d"
      },
      "outputs": [],
      "source": [
        "# Plot the ROC curve\n",
        "display = metrics.RocCurveDisplay.from_predictions(\n",
        "    y_true=y_test,\n",
        "    y_pred=clf.predict_proba(X_test)[:,1]\n",
        ")\n",
        "\n",
        "# plot the dashed line to show a random model (BAD, as if coin flip)\n",
        "plt.plot([0, 1], [0, 1], 'k--', label='Random classifier')"
      ]
    }
  ],
  "metadata": {
    "colab": {
      "provenance": []
    },
    "kernelspec": {
      "display_name": "qless_test",
      "language": "python",
      "name": "qless_test"
    },
    "language_info": {
      "codemirror_mode": {
        "name": "ipython",
        "version": 3
      },
      "file_extension": ".py",
      "mimetype": "text/x-python",
      "name": "python",
      "nbconvert_exporter": "python",
      "pygments_lexer": "ipython3",
      "version": "3.11.1"
    }
  },
  "nbformat": 4,
  "nbformat_minor": 0
}
