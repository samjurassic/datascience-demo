{
  "cells": [
    {
      "cell_type": "markdown",
      "metadata": {
        "id": "view-in-github",
        "colab_type": "text"
      },
      "source": [
        "<a href=\"https://colab.research.google.com/github/samjurassic/datascience-demo/blob/main/education/ML_tree_incomplete.ipynb\" target=\"_parent\"><img src=\"https://colab.research.google.com/assets/colab-badge.svg\" alt=\"Open In Colab\"/></a>"
      ]
    },
    {
      "cell_type": "code",
      "execution_count": null,
      "metadata": {
        "id": "xWTGJePfBCsm"
      },
      "outputs": [],
      "source": [
        "# Load libraries\n",
        "import pandas as pd\n",
        "\n",
        "import seaborn as sns\n",
        "import matplotlib.pyplot as plt\n",
        "import pydotplus\n",
        "\n",
        "from IPython.display import Image\n",
        "from sklearn.tree import DecisionTreeClassifier\n",
        "from sklearn.ensemble import RandomForestClassifier, GradientBoostingClassifier\n",
        "from sklearn.model_selection import train_test_split\n",
        "from sklearn import metrics\n",
        "from sklearn.tree import export_graphviz\n",
        "from io import StringIO"
      ]
    },
    {
      "cell_type": "code",
      "execution_count": null,
      "metadata": {
        "id": "EeFiA0gJBAwx"
      },
      "outputs": [],
      "source": [
        "file_url = \"https://raw.githubusercontent.com/samjurassic/datascience-demo/main/education/competition_data_v2.csv\"\n",
        "students = pd.read_csv(file_url)\n",
        "\n",
        "students.describe()"
      ]
    },
    {
      "cell_type": "code",
      "execution_count": null,
      "metadata": {
        "id": "WRKvoB8PCRUl"
      },
      "outputs": [],
      "source": [
        "# recode DWFI as 0, P as 1\n",
        "students[\"outcome\"] = students.grade.apply(lambda x: int(x == \"DWFI\"))\n",
        "\n",
        "# create dummy variables (0, 1) for borough and major\n",
        "students_full = pd.get_dummies(students, columns=[\"borough\", \"major\"], drop_first=True)\n",
        "# students_full.columns\n",
        "\n",
        "#split dataset in features and target variable\n",
        "feature_cols = ['age', 'gpa', 'full_time', 'freshman', 'first_generation', 'employed',\n",
        "       'pell_grant', 'borough_Brooklyn', 'borough_Manhattan',\n",
        "       'borough_Outside NYC', 'borough_Queens', 'borough_Staten Island',\n",
        "       'major_Computer Science']\n",
        "\n",
        "X = students_full[feature_cols] # Features\n",
        "y = students_full.outcome # Target variable\n",
        "\n",
        "# Use train_test_split to split dataset into training set and test set\n",
        "X_train, X_test, y_train, y_test = train_test_split(X, y, test_size=0.5, random_state=15) # 70% training and 30% test"
      ]
    },
    {
      "cell_type": "code",
      "execution_count": null,
      "metadata": {
        "id": "DW7QZnm6C66B"
      },
      "outputs": [],
      "source": [
        "# Create Decision Tree classifer object\n",
        "clf = DecisionTreeClassifier(criterion=\"gini\", max_depth=4)\n",
        "\n",
        "# Train Decision Tree Classifer\n",
        "clf = clf.fit(X_train,y_train)\n",
        "\n",
        "#Predict the response for test dataset\n",
        "y_pred = clf.predict(X_test)\n",
        "\n",
        "### EVALUATE THE MODEL\n",
        "\n",
        "# Model Accuracy, how often is the classifier correct?\n",
        "print(\"Accuracy:\",metrics.accuracy_score(y_test, y_pred).round(3))\n",
        "\n",
        "# precision: true predicted positives/all predicted positives\n",
        "print(\"Precision:\", metrics.precision_score(y_test, y_pred).round(3))\n",
        "\n",
        "# recall:  true predicted positives/all true positives\n",
        "print(\"Recall:\",metrics.recall_score(y_test, y_pred).round(3))\n",
        "\n",
        "# Confusion Matrix\n",
        "c_matrix = metrics.confusion_matrix(y_pred=y_pred, y_true=y_test)\n",
        "print(c_matrix)"
      ]
    },
    {
      "cell_type": "code",
      "execution_count": null,
      "metadata": {
        "id": "kXAMfQ5gDYPX"
      },
      "outputs": [],
      "source": [
        "# graph decision tree\n",
        "dot_data = StringIO()\n",
        "export_graphviz(clf, out_file=dot_data,\n",
        "                filled=True, rounded=True,\n",
        "                special_characters=True,feature_names = feature_cols,class_names=['P','DWFI'])\n",
        "\n",
        "graph = pydotplus.graph_from_dot_data(dot_data.getvalue())\n",
        "graph.write_png('students.png')\n",
        "Image(graph.create_png())"
      ]
    },
    {
      "cell_type": "code",
      "execution_count": null,
      "metadata": {
        "id": "mgWJodTZM7og"
      },
      "outputs": [],
      "source": [
        "### RANDOM FOREST\n",
        "\n",
        "# Create Decision Tree classifer object\n",
        "clf_rf = RandomForestClassifier(criterion=\"gini\", max_depth=3, n_estimators=100)\n",
        "\n",
        "# Train Decision Tree Classifer\n",
        "clf_rf = clf_rf.fit(X_train,y_train)\n",
        "\n",
        "#Predict the response for test dataset\n",
        "y_pred_rf = clf_rf.predict(X_test)\n",
        "\n",
        "### EVALUATE THE MODEL\n",
        "\n",
        "# Model Accuracy, how often is the classifier correct?\n",
        "print(\"Accuracy:\",metrics.accuracy_score(y_test, y_pred_rf).round(3))\n",
        "\n",
        "# precision: true predicted positives/all predicted positives\n",
        "print(\"Precision:\", metrics.precision_score(y_test, y_pred_rf).round(3))\n",
        "\n",
        "# recall:  true predicted positives/all true positives\n",
        "print(\"Recall:\",metrics.recall_score(y_test, y_pred_rf).round(3))\n",
        "\n",
        "# Confusion Matrix\n",
        "c_matrix = metrics.confusion_matrix(y_pred=y_pred_rf, y_true=y_test)\n",
        "print(c_matrix)"
      ]
    },
    {
      "cell_type": "code",
      "execution_count": null,
      "metadata": {
        "id": "ncVl5yWoNOUN"
      },
      "outputs": [],
      "source": [
        "### GRADIENT BOOSTING\n",
        "\n",
        "# Create Decision Tree classifer object\n",
        "clf_gb = GradientBoostingClassifier(max_depth=3, n_estimators=100, learning_rate=0.05)\n",
        "\n",
        "# Train Decision Tree Classifer\n",
        "clf_gb = clf_gb.fit(X_train,y_train)\n",
        "\n",
        "#Predict the response for test dataset\n",
        "y_pred_gb = clf_gb.predict(X_test)\n",
        "\n",
        "### EVALUATE THE MODEL\n",
        "\n",
        "# Model Accuracy, how often is the classifier correct?\n",
        "print(\"Accuracy:\", metrics.accuracy_score(y_test, y_pred_gb).round(3))\n",
        "\n",
        "# precision: true predicted positives/all predicted positives\n",
        "print(\"Precision:\", metrics.precision_score(y_test, y_pred_gb).round(3))\n",
        "\n",
        "# recall:  true predicted positives/all true positives\n",
        "print(\"Recall:\", metrics.recall_score(y_test, y_pred_gb).round(3))\n",
        "\n",
        "# Confusion Matrix\n",
        "c_matrix = metrics.confusion_matrix(y_pred=y_pred_gb, y_true=y_test)\n",
        "print(c_matrix)"
      ]
    },
    {
      "cell_type": "code",
      "execution_count": null,
      "metadata": {
        "id": "AotiRe4NPn3Y"
      },
      "outputs": [],
      "source": [
        "### Compare AUC\n",
        "\n",
        "## NOTE: You need predicted probabilities to do this - not predicted classes\n",
        "\n",
        "print(f\"Decision tree: {round(metrics.roc_auc_score(y_test, clf.predict_proba(X_test)[:,1]), 4)}\")\n",
        "print(f\"Random forest: {round(metrics.roc_auc_score(y_test, clf_rf.predict_proba(X_test)[:,1]), 4)}\")\n",
        "print(f\"Gradient boosting: {round(metrics.roc_auc_score(y_test, clf_gb.predict_proba(X_test)[:,1]), 4)}\")\n"
      ]
    },
    {
      "cell_type": "code",
      "execution_count": null,
      "metadata": {
        "id": "lLJEYUb0Nw5q"
      },
      "outputs": [],
      "source": [
        "# Plot the ROC curve\n",
        "display = metrics.RocCurveDisplay.from_predictions(\n",
        "    y_true=y_test,\n",
        "    y_pred=clf.predict_proba(X_test)[:,1]\n",
        ")\n",
        "\n",
        "# plot the dashed line to show a random model (BAD, as if coin flip)\n",
        "plt.plot([0, 1], [0, 1], 'k--', label='Random classifier')"
      ]
    },
    {
      "cell_type": "code",
      "source": [
        "from sklearn.model_selection import GridSearchCV, RepeatedStratifiedKFold\n",
        "import numpy as np\n",
        "\n",
        "param_grid = {\n",
        "    # \"loss\":[\"log_loss\", \"exponential\"],\n",
        "    \"max_depth\":[3,5],\n",
        "    \"learning_rate\": [0.05, 0.07, 0.15],\n",
        "    \"subsample\":[0.15, 0.05],\n",
        "    \"n_estimators\":[75, 100, 200]\n",
        "    # \"min_samples_split\": np.linspace(0.1, 0.5, 12),\n",
        "    # \"min_samples_leaf\": np.linspace(0.1, 0.5),\n",
        "    # \"max_features\":[\"log2\",\"sqrt\"],\n",
        "    # \"criterion\": [\"friedman_mse\",  \"mae\"],\n",
        "\n",
        "    }\n",
        "\n",
        "gbt = GradientBoostingClassifier(random_state=8)\n",
        "\n",
        "# cv = RepeatedStratifiedKFold(n_splits=5, n_repeats=1, random_state=0)\n",
        "\n",
        "search = GridSearchCV(estimator=gbt, param_grid=param_grid, scoring=\"roc_auc\", cv=None)\n",
        "search.fit(X_train, y_train)"
      ],
      "metadata": {
        "id": "elfLaaiMuDOS"
      },
      "execution_count": null,
      "outputs": []
    },
    {
      "cell_type": "code",
      "source": [
        "results_df = pd.DataFrame(search.cv_results_)\n",
        "results_df = results_df.sort_values(by=[\"rank_test_score\"])\n",
        "\n",
        "# pd.concat([results_df.drop(columns=\"params\"), results_df[\"params\"].apply(pd.Series)])\n",
        "print(search.best_params_)\n",
        "\n",
        "# results_df = results_df.set_index(\n",
        "#     results_df[\"params\"].apply(lambda x: \"_\".join(str(val) for val in x.values()))\n",
        "# ).rename_axis(\"kernel\")\n",
        "results_df[[\"param_learning_rate\", \"param_max_depth\", \"param_n_estimators\", \"param_subsample\", \"rank_test_score\", \"mean_test_score\", \"std_test_score\"]]"
      ],
      "metadata": {
        "id": "auPtZGelxBol"
      },
      "execution_count": null,
      "outputs": []
    },
    {
      "cell_type": "code",
      "source": [
        "### GRADIENT BOOSTING\n",
        "\n",
        "# Create Decision Tree classifer object\n",
        "clf_gb = GradientBoostingClassifier(**search.best_params_)\n",
        "\n",
        "# Train Decision Tree Classifer\n",
        "clf_gb = clf_gb.fit(X_train,y_train)\n",
        "\n",
        "#Predict the response for test dataset\n",
        "y_pred_gb = clf_gb.predict(X_test)\n",
        "\n",
        "### EVALUATE THE MODEL\n",
        "\n",
        "# Model Accuracy, how often is the classifier correct?\n",
        "print(\"Accuracy:\", metrics.accuracy_score(y_test, y_pred_gb).round(3))\n",
        "\n",
        "# precision: true predicted positives/all predicted positives\n",
        "print(\"Precision:\", metrics.precision_score(y_test, y_pred_gb).round(3))\n",
        "\n",
        "# recall:  true predicted positives/all true positives\n",
        "print(\"Recall:\", metrics.recall_score(y_test, y_pred_gb).round(3))\n",
        "\n",
        "# Confusion Matrix\n",
        "c_matrix = metrics.confusion_matrix(y_pred=y_pred_gb, y_true=y_test)\n",
        "print(c_matrix)\n",
        "\n",
        "print(f\"Gradient boosting: {round(metrics.roc_auc_score(y_test, clf_gb.predict_proba(X_test)[:,1]), 4)}\")"
      ],
      "metadata": {
        "id": "hJpSwuow_fxd"
      },
      "execution_count": null,
      "outputs": []
    }
  ],
  "metadata": {
    "colab": {
      "provenance": [],
      "include_colab_link": true
    },
    "kernelspec": {
      "display_name": "qless_test",
      "language": "python",
      "name": "qless_test"
    },
    "language_info": {
      "codemirror_mode": {
        "name": "ipython",
        "version": 3
      },
      "file_extension": ".py",
      "mimetype": "text/x-python",
      "name": "python",
      "nbconvert_exporter": "python",
      "pygments_lexer": "ipython3",
      "version": "3.11.1"
    }
  },
  "nbformat": 4,
  "nbformat_minor": 0
}